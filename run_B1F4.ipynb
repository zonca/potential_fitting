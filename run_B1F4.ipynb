{
 "cells": [
  {
   "cell_type": "code",
   "execution_count": 2,
   "metadata": {
    "collapsed": false
   },
   "outputs": [
    {
     "name": "stdout",
     "output_type": "stream",
     "text": [
      "Removing .ipynb_checkpoints/\n",
      "Removing B1F4/\n",
      "Removing index.html\n"
     ]
    }
   ],
   "source": [
    "!git clean -df"
   ]
  },
  {
   "cell_type": "markdown",
   "metadata": {},
   "source": [
    "# Polynomial generation"
   ]
  },
  {
   "cell_type": "code",
   "execution_count": 3,
   "metadata": {
    "collapsed": false
   },
   "outputs": [
    {
     "name": "stdout",
     "output_type": "stream",
     "text": [
      "/home/azonca/Paesani/potential_fitting/polynomial_generation/tests/1B\n"
     ]
    }
   ],
   "source": [
    "%cd ~/Paesani/potential_fitting/polynomial_generation/tests/1B"
   ]
  },
  {
   "cell_type": "markdown",
   "metadata": {},
   "source": [
    "### Define input file"
   ]
  },
  {
   "cell_type": "code",
   "execution_count": 4,
   "metadata": {
    "collapsed": false
   },
   "outputs": [
    {
     "name": "stdout",
     "output_type": "stream",
     "text": [
      "add_molecule['B1F4']\r\n",
      "\r\n",
      "add_variable['B',  'a', 'F1', 'a',  'x-intra-BF']\r\n",
      "add_variable['B',  'a', 'F2', 'a',  'x-intra-BF']\r\n",
      "add_variable['B',  'a', 'F3', 'a',  'x-intra-BF']\r\n",
      "add_variable['B',  'a', 'F4', 'a',  'x-intra-BF']\r\n",
      "add_variable['F1', 'a', 'F2', 'a',  'x-intra-FF']\r\n",
      "add_variable['F1', 'a', 'F3', 'a',  'x-intra-FF']\r\n",
      "add_variable['F1', 'a', 'F4', 'a',  'x-intra-FF']\r\n",
      "add_variable['F2', 'a', 'F3', 'a',  'x-intra-FF']\r\n",
      "add_variable['F2', 'a', 'F4', 'a',  'x-intra-FF']\r\n",
      "add_variable['F3', 'a', 'F4', 'a',  'x-intra-FF']\r\n"
     ]
    }
   ],
   "source": [
    "!cat bf4.in"
   ]
  },
  {
   "cell_type": "markdown",
   "metadata": {},
   "source": [
    "### Create maple input files"
   ]
  },
  {
   "cell_type": "code",
   "execution_count": null,
   "metadata": {
    "collapsed": true
   },
   "outputs": [],
   "source": [
    "!./../../src/poly-gen_mb-nrg.pl 4 bf4.in > bf4.log "
   ]
  },
  {
   "cell_type": "code",
   "execution_count": null,
   "metadata": {
    "collapsed": false
   },
   "outputs": [],
   "source": [
    "cat bf4.log"
   ]
  },
  {
   "cell_type": "code",
   "execution_count": null,
   "metadata": {
    "collapsed": false
   },
   "outputs": [],
   "source": [
    "ls *maple"
   ]
  },
  {
   "cell_type": "markdown",
   "metadata": {},
   "source": [
    "### Run maple and transform output to C++"
   ]
  },
  {
   "cell_type": "code",
   "execution_count": null,
   "metadata": {
    "collapsed": false
   },
   "outputs": [],
   "source": [
    "for f in [\"poly-nogrd\", \"poly-grd\"]:\n",
    "    maple_file = f + \".maple\"\n",
    "    !maple $maple_file\n",
    "    c_file = f + \".c\"\n",
    "    cpp_file = f + \".cpp\"\n",
    "    !../../src/clean-maple-c.pl < $c_file > $cpp_file"
   ]
  },
  {
   "cell_type": "markdown",
   "metadata": {},
   "source": [
    "# Fitting"
   ]
  },
  {
   "cell_type": "code",
   "execution_count": null,
   "metadata": {
    "collapsed": false
   },
   "outputs": [],
   "source": [
    "%cd ~/Paesani/potential_fitting/fitting/1B/get_codes"
   ]
  },
  {
   "cell_type": "markdown",
   "metadata": {},
   "source": [
    "### Setup fitting and compile"
   ]
  },
  {
   "cell_type": "code",
   "execution_count": null,
   "metadata": {
    "collapsed": true
   },
   "outputs": [],
   "source": [
    "f = \"../../../polynomial_generation/tests/1B\""
   ]
  },
  {
   "cell_type": "code",
   "execution_count": null,
   "metadata": {
    "collapsed": false
   },
   "outputs": [],
   "source": [
    "!./setup.ba $f/poly-grd.cpp $f/poly-nogrd.cpp $f/poly-direct.cpp $f/poly-model.h $f/bf4.in 4 0 ."
   ]
  },
  {
   "cell_type": "markdown",
   "metadata": {},
   "source": [
    "### Run fitting\n",
    "\n",
    "First make sure that the `.xyz` training set is available"
   ]
  },
  {
   "cell_type": "code",
   "execution_count": null,
   "metadata": {
    "collapsed": false
   },
   "outputs": [],
   "source": [
    "%cd B1F4/normal/4"
   ]
  },
  {
   "cell_type": "code",
   "execution_count": null,
   "metadata": {
    "collapsed": true
   },
   "outputs": [],
   "source": [
    "!ln -s  ~/Paesani/bf4_training_set.xyz ."
   ]
  },
  {
   "cell_type": "code",
   "execution_count": null,
   "metadata": {
    "collapsed": true
   },
   "outputs": [],
   "source": [
    "!./fit-1b-polynomials *_training_set.xyz > fit-1b-polynomials.log"
   ]
  },
  {
   "cell_type": "markdown",
   "metadata": {},
   "source": [
    "Check fitted output coefficients"
   ]
  },
  {
   "cell_type": "code",
   "execution_count": null,
   "metadata": {
    "collapsed": false
   },
   "outputs": [],
   "source": [
    "!cat fit-x1b-v1.dat"
   ]
  }
 ],
 "metadata": {
  "kernelspec": {
   "display_name": "Python 3",
   "language": "python",
   "name": "python3"
  },
  "language_info": {
   "codemirror_mode": {
    "name": "ipython",
    "version": 3
   },
   "file_extension": ".py",
   "mimetype": "text/x-python",
   "name": "python",
   "nbconvert_exporter": "python",
   "pygments_lexer": "ipython3",
   "version": "3.6.0"
  }
 },
 "nbformat": 4,
 "nbformat_minor": 2
}
