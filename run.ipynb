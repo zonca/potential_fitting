{
 "cells": [
  {
   "cell_type": "code",
   "execution_count": 29,
   "metadata": {
    "collapsed": false
   },
   "outputs": [
    {
     "name": "stdout",
     "output_type": "stream",
     "text": [
      "Removing .ipynb_checkpoints/\r\n",
      "Removing B1F4/\r\n",
      "Removing poly-direct.cpp\r\n",
      "Removing poly-grd.maple\r\n",
      "Removing poly-model.h\r\n",
      "Removing poly-nogrd.maple\r\n",
      "Removing polynomial_generation/src/.poly-gen_mb-nrg.pl.swp\r\n",
      "Removing run.ipynb\r\n",
      "Removing vars.cpp\r\n"
     ]
    }
   ],
   "source": [
    "!git clean -df"
   ]
  },
  {
   "cell_type": "markdown",
   "metadata": {},
   "source": [
    "Create a folder with input file"
   ]
  },
  {
   "cell_type": "code",
   "execution_count": 30,
   "metadata": {
    "collapsed": true
   },
   "outputs": [],
   "source": [
    "%mkdir B1F4"
   ]
  },
  {
   "cell_type": "code",
   "execution_count": 31,
   "metadata": {
    "collapsed": false
   },
   "outputs": [
    {
     "name": "stdout",
     "output_type": "stream",
     "text": [
      "/home/azonca/Paesani/potential_fitting/B1F4\n"
     ]
    }
   ],
   "source": [
    "%cd B1F4"
   ]
  },
  {
   "cell_type": "code",
   "execution_count": 33,
   "metadata": {
    "collapsed": false
   },
   "outputs": [],
   "source": [
    "%cp /home/azonca/Paesani/potential_fitting/polynomial_generation/tests/1B/bf4.in ."
   ]
  },
  {
   "cell_type": "code",
   "execution_count": 37,
   "metadata": {
    "collapsed": false
   },
   "outputs": [
    {
     "name": "stdout",
     "output_type": "stream",
     "text": [
      "Overwriting config.ini\n"
     ]
    }
   ],
   "source": [
    "%%file config.ini\n",
    "\n",
    "[polynomial_generation]\n",
    "molecule_definition = bf4.in\n",
    "polynomial_order = 4"
   ]
  },
  {
   "cell_type": "code",
   "execution_count": 38,
   "metadata": {
    "collapsed": false
   },
   "outputs": [
    {
     "name": "stdout",
     "output_type": "stream",
     "text": [
      "bf4.in\tconfig.ini\r\n"
     ]
    }
   ],
   "source": [
    "!ls"
   ]
  },
  {
   "cell_type": "code",
   "execution_count": 39,
   "metadata": {
    "collapsed": true
   },
   "outputs": [],
   "source": [
    "# have to run from the folder\n",
    "config_filename = \"config.ini\""
   ]
  },
  {
   "cell_type": "code",
   "execution_count": 40,
   "metadata": {
    "collapsed": false
   },
   "outputs": [
    {
     "data": {
      "text/plain": [
       "['config.ini']"
      ]
     },
     "execution_count": 40,
     "metadata": {},
     "output_type": "execute_result"
    }
   ],
   "source": [
    "import configparser\n",
    "import os\n",
    "\n",
    "config = configparser.ConfigParser()\n",
    "config.read(config_filename)"
   ]
  },
  {
   "cell_type": "markdown",
   "metadata": {},
   "source": [
    "# Polynomial generation"
   ]
  },
  {
   "cell_type": "markdown",
   "metadata": {},
   "source": [
    "### Define input file"
   ]
  },
  {
   "cell_type": "markdown",
   "metadata": {},
   "source": [
    "### Create maple input files"
   ]
  },
  {
   "cell_type": "code",
   "execution_count": 43,
   "metadata": {
    "collapsed": false
   },
   "outputs": [],
   "source": [
    "order = config.getint(\"polynomial_generation\", \"polynomial_order\")"
   ]
  },
  {
   "cell_type": "code",
   "execution_count": 44,
   "metadata": {
    "collapsed": true
   },
   "outputs": [],
   "source": [
    "input_file = os.path.join(root_folder, config.get(\"polynomial_generation\", \"molecule_definition\"))"
   ]
  },
  {
   "cell_type": "code",
   "execution_count": 45,
   "metadata": {
    "collapsed": true
   },
   "outputs": [],
   "source": [
    "os.mkdir(\"polynomial_generation\")"
   ]
  },
  {
   "cell_type": "code",
   "execution_count": 46,
   "metadata": {
    "collapsed": true
   },
   "outputs": [],
   "source": [
    "os.chdir(\"polynomial_generation\")"
   ]
  },
  {
   "cell_type": "code",
   "execution_count": 49,
   "metadata": {
    "collapsed": false
   },
   "outputs": [],
   "source": [
    "potential_fitting_root_folder = \"/home/azonca/Paesani/potential_fitting/\""
   ]
  },
  {
   "cell_type": "code",
   "execution_count": 50,
   "metadata": {
    "collapsed": false
   },
   "outputs": [
    {
     "data": {
      "text/plain": [
       "'/home/azonca/Paesani/potential_fitting/B1F4/polynomial_generation'"
      ]
     },
     "execution_count": 50,
     "metadata": {},
     "output_type": "execute_result"
    }
   ],
   "source": [
    "%pwd"
   ]
  },
  {
   "cell_type": "code",
   "execution_count": 53,
   "metadata": {
    "collapsed": false
   },
   "outputs": [],
   "source": [
    "!$potential_fitting_root_folder/polynomial_generation/src/poly-gen_mb-nrg.pl $order ../$input_file > poly_generation.log "
   ]
  },
  {
   "cell_type": "code",
   "execution_count": 54,
   "metadata": {
    "collapsed": false
   },
   "outputs": [
    {
     "name": "stdout",
     "output_type": "stream",
     "text": [
      "poly-direct.cpp      poly-grd.maple  poly-nogrd.maple\r\n",
      "poly_generation.log  poly-model.h    vars.cpp\r\n"
     ]
    }
   ],
   "source": [
    "ls"
   ]
  },
  {
   "cell_type": "markdown",
   "metadata": {},
   "source": [
    "### Run maple and transform output to C++"
   ]
  },
  {
   "cell_type": "code",
   "execution_count": 55,
   "metadata": {
    "collapsed": false
   },
   "outputs": [
    {
     "name": "stdout",
     "output_type": "stream",
     "text": [
      "    |\\^/|     Maple 2016 (X86 64 LINUX)\n",
      "._|\\|   |/|_. Copyright (c) Maplesoft, a division of Waterloo Maple Inc. 2016\n",
      " \\  MAPLE  /  All rights reserved. Maple is a trademark of\n",
      " <____ ____>  Waterloo Maple Inc.\n",
      "      |       Type ? for help.\n",
      ">     p[1] := x10+x08+x06+x07+x09+x05:\n",
      ">     p[2] := x04+x02+x01+x03:\n",
      "> \n",
      ">     p[3] := x09*x10+x08*x10+x05*x06+x06*x07+x08*x09+x05*x07+x05*x08+x06*x10+x07*x10+x06*x08+x07*x09+x05*x09:\n",
      ">     p[4] := x03*x07+x01*x10+x01*x09+x04*x05+x02*x06+x02*x10+x01*x08+x04*x08+x03*x05+x04*x06+x02*x07+x03*x09:\n",
      ">     p[5] := x01*x05+x02*x05+x04*x10+x04*x09+x03*x06+x02*x09+x02*x08+x03*x08+x01*x07+x01*x06+x03*x10+x04*x07:\n",
      ">     p[6] := x07*x08+x06*x09+x05*x10:\n",
      ">     p[7] := x04*x04+x01*x01+x02*x02+x03*x03:\n",
      ">     p[8] := x08*x08+x07*x07+x05*x05+x10*x10+x09*x09+x06*x06:\n",
      ">     p[9] := x01*x02+x03*x04+x01*x03+x02*x03+x01*x04+x02*x04:\n",
      "> \n",
      ">     p[10] := x04*x06*x08+x02*x06*x10+x01*x09*x10+x04*x05*x06+x03*x05*x07+x02*x07*x10+x04*x05*x08+x01*x08*x09+x03*x07*x09+x02*x06*x07+x03*x05*x09+x01*x08*x10:\n",
      ">     p[11] := x01*x03*x06+x01*x02*x05+x01*x04*x07+x02*x03*x08+x02*x04*x09+x03*x04*x10:\n",
      ">     p[12] := x06*x07*x10+x08*x09*x10+x05*x06*x08+x05*x07*x09:\n",
      ">     p[13] := x02*x06*x08+x04*x08*x10+x04*x06*x07+x04*x05*x09+x04*x05*x07+x01*x07*x09+x02*x09*x10+x04*x08*x09+x03*x05*x06+x01*x05*x09+x01*x06*x10+x02*x05*x06+x03*x08*x09+x04*x06*x10+x02*x05*x07+x02*x07*x09+x02*x08*x10+x03*x05*x08+x03*x09*x10+x01*x05*x08+x03*x07*x10+x03*x06*x07+x01*x06*x08+x01*x07*x10:\n",
      ">     p[14] := x06*x07*x09+x05*x07*x08+x05*x06*x09+x07*x08*x09+x07*x08*x10+x06*x08*x09+x06*x09*x10+x06*x07*x08+x05*x09*x10+x05*x07*x10+x05*x08*x10+x05*x06*x10:\n",
      ">     p[15] := x02*x07*x07+x01*x09*x09+x04*x06*x06+x03*x07*x07+x03*x09*x09+x02*x06*x06+x01*x10*x10+x04*x08*x08+x01*x08*x08+x02*x10*x10+x04*x05*x05+x03*x05*x05:\n",
      ">     p[16] := x01*x03*x09+x02*x03*x07+x03*x04*x05+x02*x04*x06+x01*x02*x10+x01*x04*x08:\n",
      ">     p[17] := x01*x01*x07+x04*x04*x07+x02*x02*x09+x03*x03*x06+x03*x03*x10+x03*x03*x08+x04*x04*x09+x02*x02*x05+x01*x01*x06+x02*x02*x08+x01*x01*x05+x04*x04*x10:\n",
      ">     p[18] := x01*x06*x09+x02*x06*x09+x04*x06*x09+x03*x05*x10+x02*x07*x08+x04*x07*x08+x03*x06*x09+x03*x07*x08+x01*x07*x08+x02*x05*x10+x01*x05*x10+x04*x05*x10:\n",
      ">     p[19] := x04*x09*x10+x01*x05*x06+x01*x06*x07+x04*x07*x10+x02*x05*x08+x02*x08*x09+x01*x05*x07+x03*x08*x10+x04*x07*x09+x03*x06*x10+x03*x06*x08+x02*x05*x09:\n",
      ">     p[20] := x02*x03*x03+x02*x02*x03+x02*x02*x04+x03*x04*x04+x01*x04*x04+x01*x03*x03+x01*x01*x04+x02*x04*x04+x01*x01*x03+x01*x02*x02+x01*x01*x02+x03*x03*x04:\n",
      ">     p[21] := x09*x10*x10+x09*x09*x10+x05*x09*x09+x06*x07*x07+x05*x08*x08+x05*x05*x08+x05*x07*x07+x08*x10*x10+x08*x09*x09+x05*x06*x06+x05*x05*x07+x06*x06*x10+x08*x08*x09+x06*x06*x08+x05*x05*x06+x07*x07*x09+x05*x05*x09+x06*x10*x10+x07*x10*x10+x07*x07*x10+x06*x06*x07+x08*x08*x10+x06*x08*x08+x07*x09*x09:\n",
      ">     p[22] := x07*x09*x10+x05*x08*x09+x06*x08*x10+x05*x06*x07:\n",
      ">     p[23] := x01*x01*x09+x04*x04*x05+x03*x03*x05+x04*x04*x08+x01*x01*x10+x03*x03*x07+x02*x02*x07+x02*x02*x10+x02*x02*x06+x04*x04*x06+x01*x01*x08+x03*x03*x09:\n",
      ">     p[24] := x01*x04*x05+x02*x04*x08+x01*x02*x07+x03*x04*x07+x01*x02*x08+x01*x04*x06+x01*x03*x07+x03*x04*x08+x01*x04*x10+x02*x03*x06+x02*x04*x10+x02*x03*x09+x02*x03*x10+x02*x04*x05+x01*x03*x08+x01*x02*x06+x02*x03*x05+x03*x04*x09+x01*x02*x09+x03*x04*x06+x01*x04*x09+x02*x04*x07+x01*x03*x05+x01*x03*x10:\n",
      ">     p[25] := x02*x08*x08+x03*x06*x06+x03*x08*x08+x01*x06*x06+x04*x07*x07+x02*x05*x05+x03*x10*x10+x04*x09*x09+x02*x09*x09+x01*x05*x05+x04*x10*x10+x01*x07*x07:\n",
      ">     p[26] := x02*x03*x04+x01*x02*x03+x01*x03*x04+x01*x02*x04:\n",
      ">     p[27] := x07*x07*x07+x10*x10*x10+x06*x06*x06+x08*x08*x08+x05*x05*x05+x09*x09*x09:\n",
      ">     p[28] := x06*x09*x09+x06*x06*x09+x05*x05*x10+x07*x08*x08+x07*x07*x08+x05*x10*x10:\n",
      ">     p[29] := x03*x03*x03+x01*x01*x01+x04*x04*x04+x02*x02*x02:\n",
      "> \n",
      ">     p[30] := x07*x07*x10*x10+x08*x08*x09*x09+x08*x08*x10*x10+x05*x05*x09*x09+x09*x09*x10*x10+x05*x05*x08*x08+x07*x07*x09*x09+x06*x06*x10*x10+x06*x06*x07*x07+x06*x06*x08*x08+x05*x05*x06*x06+x05*x05*x07*x07:\n",
      ">     p[31] := x06*x07*x08*x10+x07*x08*x09*x10+x05*x06*x07*x09+x05*x06*x08*x09+x05*x07*x08*x09+x05*x07*x09*x10+x06*x07*x09*x10+x06*x08*x09*x10+x05*x06*x07*x10+x05*x06*x07*x08+x05*x08*x09*x10+x05*x06*x08*x10:\n",
      ">     p[32] := x06*x07*x07*x07+x07*x09*x09*x09+x05*x05*x05*x08+x09*x10*x10*x10+x05*x08*x08*x08+x07*x10*x10*x10+x05*x05*x05*x06+x06*x10*x10*x10+x05*x06*x06*x06+x08*x08*x08*x10+x05*x05*x05*x07+x05*x09*x09*x09+x07*x07*x07*x10+x09*x09*x09*x10+x05*x07*x07*x07+x06*x06*x06*x08+x08*x10*x10*x10+x06*x06*x06*x10+x07*x07*x07*x09+x08*x08*x08*x09+x06*x06*x06*x07+x06*x08*x08*x08+x05*x05*x05*x09+x08*x09*x09*x09:\n",
      ">     p[33] := x03*x05*x05*x09+x01*x08*x08*x09+x04*x05*x08*x08+x02*x06*x06*x07+x01*x09*x09*x10+x02*x07*x07*x10+x01*x09*x10*x10+x04*x05*x05*x08+x02*x06*x06*x10+x02*x07*x10*x10+x02*x06*x07*x07+x01*x08*x09*x09+x04*x05*x05*x06+x03*x05*x09*x09+x02*x06*x10*x10+x03*x05*x07*x07+x03*x07*x07*x09+x01*x08*x10*x10+x04*x05*x06*x06+x03*x07*x09*x09+x04*x06*x06*x08+x03*x05*x05*x07+x04*x06*x08*x08+x01*x08*x08*x10:\n",
      ">     p[34] := x03*x05*x06*x07+x01*x07*x09*x10+x04*x05*x08*x09+x02*x07*x09*x10+x04*x06*x08*x10+x04*x05*x06*x07+x02*x06*x08*x10+x01*x06*x08*x10+x01*x05*x08*x09+x03*x07*x09*x10+x02*x05*x06*x07+x03*x05*x08*x09:\n",
      ">     p[35] := x07*x07*x09*x10+x05*x06*x06*x07+x07*x09*x09*x10+x07*x09*x10*x10+x06*x06*x08*x10+x05*x06*x07*x07+x06*x08*x08*x10+x05*x08*x08*x09+x05*x05*x06*x07+x05*x05*x08*x09+x05*x08*x09*x09+x06*x08*x10*x10:\n",
      ">     p[36] := x03*x07*x10*x10+x04*x06*x10*x10+x02*x08*x08*x10+x01*x05*x05*x08+x03*x05*x06*x06+x02*x07*x09*x09+x04*x08*x09*x09+x04*x05*x07*x07+x01*x06*x06*x10+x01*x07*x07*x10+x03*x06*x06*x07+x02*x05*x05*x06+x02*x06*x08*x08+x02*x05*x05*x07+x04*x08*x10*x10+x01*x07*x07*x09+x01*x05*x05*x09+x03*x08*x08*x09+x04*x06*x07*x07+x03*x09*x10*x10+x04*x05*x09*x09+x01*x06*x06*x08+x02*x09*x09*x10+x03*x05*x08*x08:\n",
      ">     p[37] := x02*x05*x08*x08+x01*x06*x06*x07+x03*x08*x08*x10+x02*x05*x05*x08+x04*x09*x09*x10+x03*x06*x06*x08+x03*x06*x08*x08+x04*x07*x07*x10+x04*x07*x10*x10+x03*x08*x10*x10+x02*x08*x08*x09+x04*x07*x09*x09+x02*x05*x05*x09+x04*x09*x10*x10+x02*x05*x09*x09+x01*x05*x05*x06+x01*x06*x07*x07+x02*x08*x09*x09+x01*x05*x07*x07+x03*x06*x10*x10+x01*x05*x06*x06+x01*x05*x05*x07+x04*x07*x07*x09+x03*x06*x06*x10:\n",
      ">     p[38] := x01*x01*x03*x07+x01*x01*x02*x07+x01*x02*x02*x09+x03*x04*x04*x09+x01*x01*x03*x05+x01*x04*x04*x10+x02*x03*x03*x10+x02*x03*x03*x06+x01*x03*x03*x10+x02*x02*x04*x05+x03*x03*x04*x08+x02*x02*x04*x08+x01*x01*x04*x06+x01*x01*x04*x05+x01*x01*x02*x06+x03*x04*x04*x07+x01*x04*x04*x09+x02*x02*x03*x05+x02*x04*x04*x10+x03*x03*x04*x06+x02*x04*x04*x07+x02*x02*x03*x09+x01*x03*x03*x08+x01*x02*x02*x08:\n",
      ">     p[39] := x01*x01*x01*x09+x04*x04*x04*x06+x04*x04*x04*x08+x02*x02*x02*x06+x03*x03*x03*x07+x02*x02*x02*x07+x01*x01*x01*x08+x04*x04*x04*x05+x01*x01*x01*x10+x03*x03*x03*x05+x02*x02*x02*x10+x03*x03*x03*x09:\n",
      ">     p[40] := x03*x04*x06*x10+x02*x03*x06*x08+x01*x04*x05*x07+x01*x02*x05*x07+x02*x04*x07*x09+x01*x02*x05*x08+x02*x04*x08*x09+x02*x03*x05*x08+x01*x03*x05*x06+x03*x04*x08*x10+x01*x03*x06*x08+x02*x04*x05*x09+x03*x04*x09*x10+x01*x02*x05*x06+x03*x04*x07*x10+x01*x04*x07*x09+x01*x03*x06*x07+x01*x02*x05*x09+x02*x04*x09*x10+x01*x03*x06*x10+x01*x04*x06*x07+x01*x04*x07*x10+x02*x03*x08*x09+x02*x03*x08*x10:\n",
      ">     p[41] := x01*x01*x07*x09+x03*x03*x05*x06+x02*x02*x08*x10+x02*x02*x07*x09+x04*x04*x05*x09+x03*x03*x09*x10+x01*x01*x06*x10+x04*x04*x05*x07+x02*x02*x06*x08+x01*x01*x05*x08+x03*x03*x08*x09+x04*x04*x08*x09+x04*x04*x06*x07+x03*x03*x06*x07+x03*x03*x07*x10+x01*x01*x05*x09+x02*x02*x05*x07+x04*x04*x06*x10+x01*x01*x07*x10+x02*x02*x05*x06+x03*x03*x05*x08+x01*x01*x06*x08+x02*x02*x09*x10+x04*x04*x08*x10:\n",
      ">     p[42] := x04*x04*x09*x10+x02*x02*x08*x09+x01*x01*x06*x07+x02*x02*x05*x09+x03*x03*x06*x08+x03*x03*x08*x10+x04*x04*x07*x09+x01*x01*x05*x06+x01*x01*x05*x07+x03*x03*x06*x10+x04*x04*x07*x10+x02*x02*x05*x08:\n",
      ">     p[43] := x02*x03*x05*x10+x01*x02*x07*x08+x01*x03*x07*x08+x02*x03*x06*x09+x02*x04*x05*x10+x02*x04*x07*x08+x01*x03*x05*x10+x01*x04*x06*x09+x01*x04*x05*x10+x01*x02*x06*x09+x03*x04*x07*x08+x03*x04*x06*x09:\n",
      ">     p[44] := x01*x02*x06*x07+x03*x04*x06*x08+x02*x04*x07*x10+x02*x03*x05*x09+x01*x02*x08*x09+x01*x04*x05*x06+x02*x04*x05*x08+x03*x04*x07*x09+x01*x03*x05*x07+x01*x03*x08*x10+x02*x03*x06*x10+x01*x04*x09*x10:\n",
      ">     p[45] := x04*x04*x06*x09+x01*x01*x05*x10+x01*x01*x07*x08+x03*x03*x07*x08+x02*x02*x05*x10+x03*x03*x06*x09+x01*x01*x06*x09+x02*x02*x07*x08+x02*x02*x06*x09+x03*x03*x05*x10+x04*x04*x05*x10+x04*x04*x07*x08:\n",
      ">     p[46] := x07*x07*x07*x07+x06*x06*x06*x06+x05*x05*x05*x05+x10*x10*x10*x10+x09*x09*x09*x09+x08*x08*x08*x08:\n",
      ">     p[47] := x01*x01*x09*x09+x04*x04*x08*x08+x03*x03*x07*x07+x03*x03*x09*x09+x02*x02*x10*x10+x04*x04*x06*x06+x04*x04*x05*x05+x02*x02*x06*x06+x02*x02*x07*x07+x03*x03*x05*x05+x01*x01*x10*x10+x01*x01*x08*x08:\n",
      ">     p[48] := x08*x09*x10*x10+x05*x06*x06*x08+x06*x07*x07*x10+x05*x05*x06*x08+x08*x08*x09*x10+x05*x06*x08*x08+x06*x06*x07*x10+x05*x05*x07*x09+x05*x07*x09*x09+x05*x07*x07*x09+x08*x09*x09*x10+x06*x07*x10*x10:\n",
      ">     p[49] := x01*x07*x07*x08+x01*x05*x05*x10+x04*x07*x07*x08+x03*x06*x06*x09+x04*x06*x09*x09+x02*x07*x08*x08+x01*x06*x06*x09+x02*x05*x05*x10+x02*x06*x09*x09+x03*x07*x08*x08+x03*x05*x10*x10+x04*x05*x10*x10:\n",
      ">     p[50] := x01*x02*x07*x07+x02*x04*x07*x07+x01*x04*x05*x05+x01*x04*x10*x10+x01*x02*x09*x09+x01*x03*x07*x07+x01*x03*x08*x08+x02*x04*x08*x08+x01*x02*x06*x06+x01*x02*x08*x08+x01*x03*x05*x05+x02*x03*x06*x06+x01*x04*x06*x06+x03*x04*x07*x07+x02*x03*x09*x09+x03*x04*x08*x08+x01*x03*x10*x10+x02*x04*x05*x05+x03*x04*x06*x06+x02*x04*x10*x10+x01*x04*x09*x09+x03*x04*x09*x09+x02*x03*x10*x10+x02*x03*x05*x05:\n",
      ">     p[51] := x01*x01*x09*x10+x04*x04*x05*x06+x02*x02*x06*x10+x03*x03*x05*x09+x04*x04*x06*x08+x02*x02*x07*x10+x01*x01*x08*x09+x04*x04*x05*x08+x03*x03*x07*x09+x01*x01*x08*x10+x02*x02*x06*x07+x03*x03*x05*x07:\n",
      ">     p[52] := x05*x05*x07*x08+x05*x06*x06*x10+x06*x06*x07*x08+x07*x08*x09*x09+x05*x07*x07*x10+x05*x08*x08*x10+x06*x07*x07*x09+x07*x08*x10*x10+x06*x09*x10*x10+x05*x09*x09*x10+x05*x05*x06*x09+x06*x08*x08*x09:\n",
      ">     p[53] := x03*x04*x05*x05+x01*x04*x08*x08+x02*x04*x06*x06+x01*x02*x10*x10+x02*x03*x07*x07+x01*x03*x09*x09:\n",
      ">     p[54] := x02*x06*x06*x09+x01*x07*x08*x08+x04*x07*x08*x08+x03*x06*x09*x09+x01*x05*x10*x10+x03*x05*x05*x10+x03*x07*x07*x08+x01*x06*x09*x09+x02*x05*x10*x10+x04*x05*x05*x10+x02*x07*x07*x08+x04*x06*x06*x09:\n",
      ">     p[55] := x02*x05*x05*x05+x04*x09*x09*x09+x03*x10*x10*x10+x01*x07*x07*x07+x04*x07*x07*x07+x03*x06*x06*x06+x02*x09*x09*x09+x03*x08*x08*x08+x01*x06*x06*x06+x02*x08*x08*x08+x01*x05*x05*x05+x04*x10*x10*x10:\n",
      ">     p[56] := x01*x01*x02*x09+x01*x03*x03*x05+x03*x03*x04*x07+x03*x04*x04*x06+x01*x01*x02*x08+x01*x03*x03*x07+x01*x04*x04*x05+x01*x01*x04*x09+x02*x04*x04*x08+x01*x02*x02*x07+x02*x02*x04*x07+x03*x03*x04*x09+x02*x04*x04*x05+x02*x02*x03*x06+x01*x02*x02*x06+x02*x03*x03*x05+x03*x04*x04*x08+x01*x01*x04*x10+x01*x01*x03*x10+x02*x02*x03*x10+x02*x02*x04*x10+x02*x03*x03*x09+x01*x01*x03*x08+x01*x04*x04*x06:\n",
      ">     p[57] := x06*x07*x08*x09+x05*x06*x09*x10+x05*x07*x08*x10:\n",
      ">     p[58] := x05*x07*x08*x08+x05*x08*x10*x10+x06*x06*x09*x10+x05*x05*x08*x10+x07*x08*x08*x10+x05*x05*x09*x10+x05*x06*x10*x10+x06*x07*x09*x09+x06*x07*x07*x08+x05*x07*x07*x08+x05*x09*x10*x10+x05*x07*x10*x10+x05*x05*x07*x10+x06*x09*x09*x10+x06*x06*x08*x09+x05*x06*x09*x09+x07*x07*x08*x09+x07*x07*x08*x10+x05*x06*x06*x09+x06*x06*x07*x09+x06*x08*x09*x09+x07*x08*x08*x09+x05*x05*x06*x10+x06*x07*x08*x08:\n",
      ">     p[59] := x01*x04*x07*x07+x02*x04*x09*x09+x01*x03*x06*x06+x02*x03*x08*x08+x03*x04*x10*x10+x01*x02*x05*x05:\n",
      ">     p[60] := x01*x01*x01*x03+x02*x03*x03*x03+x01*x01*x01*x04+x01*x04*x04*x04+x02*x02*x02*x04+x03*x04*x04*x04+x02*x04*x04*x04+x03*x03*x03*x04+x01*x02*x02*x02+x01*x01*x01*x02+x02*x02*x02*x03+x01*x03*x03*x03:\n",
      ">     p[61] := x01*x02*x03*x09+x01*x03*x04*x05+x01*x02*x03*x07+x02*x03*x04*x07+x02*x03*x04*x05+x01*x02*x04*x10+x01*x02*x04*x06+x01*x03*x04*x09+x01*x02*x04*x08+x01*x02*x03*x10+x01*x03*x04*x08+x02*x03*x04*x06:\n",
      ">     p[62] := x04*x05*x05*x09+x04*x08*x08*x10+x02*x07*x07*x09+x03*x08*x09*x09+x02*x05*x06*x06+x01*x06*x10*x10+x01*x06*x08*x08+x02*x05*x07*x07+x04*x08*x08*x09+x03*x07*x07*x10+x01*x07*x09*x09+x04*x06*x06*x10+x03*x06*x07*x07+x04*x06*x06*x07+x01*x07*x10*x10+x03*x05*x05*x08+x02*x06*x06*x08+x03*x09*x09*x10+x01*x05*x08*x08+x03*x05*x05*x06+x02*x09*x10*x10+x04*x05*x05*x07+x02*x08*x10*x10+x01*x05*x09*x09:\n",
      ">     p[63] := x03*x05*x06*x09+x03*x07*x08*x09+x01*x06*x08*x09+x02*x06*x07*x09+x02*x05*x07*x10+x04*x05*x08*x10+x01*x05*x08*x10+x01*x07*x08*x10+x03*x05*x09*x10+x01*x06*x09*x10+x03*x05*x07*x08+x01*x05*x09*x10+x02*x05*x06*x10+x03*x06*x07*x09+x04*x05*x07*x08+x04*x05*x06*x09+x02*x06*x09*x10+x01*x07*x08*x09+x04*x06*x08*x09+x02*x06*x07*x08+x04*x05*x06*x10+x04*x06*x07*x08+x03*x05*x07*x10+x02*x07*x08*x10:\n",
      ">     p[64] := x01*x03*x03*x06+x01*x01*x03*x06+x02*x04*x04*x09+x01*x01*x02*x05+x02*x03*x03*x08+x02*x02*x03*x08+x03*x03*x04*x10+x01*x04*x04*x07+x01*x02*x02*x05+x03*x04*x04*x10+x01*x01*x04*x07+x02*x02*x04*x09:\n",
      ">     p[65] := x02*x04*x06*x07+x02*x03*x05*x07+x03*x04*x05*x06+x01*x02*x06*x10+x01*x02*x08*x10+x01*x02*x09*x10+x01*x03*x07*x09+x02*x04*x06*x10+x02*x03*x06*x07+x02*x04*x05*x06+x01*x03*x09*x10+x03*x04*x05*x08+x02*x04*x06*x08+x01*x03*x08*x09+x01*x04*x08*x10+x03*x04*x05*x09+x01*x03*x05*x09+x01*x04*x05*x08+x01*x04*x06*x08+x01*x04*x08*x09+x02*x03*x07*x09+x03*x04*x05*x07+x02*x03*x07*x10+x01*x02*x07*x10:\n",
      ">     p[66] := x01*x10*x10*x10+x01*x09*x09*x09+x03*x07*x07*x07+x04*x08*x08*x08+x04*x06*x06*x06+x02*x10*x10*x10+x02*x07*x07*x07+x04*x05*x05*x05+x03*x09*x09*x09+x02*x06*x06*x06+x01*x08*x08*x08+x03*x05*x05*x05:\n",
      ">     p[67] := x06*x06*x06*x09+x05*x10*x10*x10+x06*x09*x09*x09+x07*x08*x08*x08+x07*x07*x07*x08+x05*x05*x05*x10:\n",
      ">     p[68] := x01*x01*x03*x03+x03*x03*x04*x04+x01*x01*x04*x04+x02*x02*x04*x04+x01*x01*x02*x02+x02*x02*x03*x03:\n",
      ">     p[69] := x01*x05*x07*x10+x04*x06*x09*x10+x01*x05*x06*x10+x02*x05*x06*x09+x03*x06*x07*x08+x02*x05*x08*x10+x01*x06*x07*x08+x03*x05*x06*x10+x02*x07*x08*x09+x02*x05*x09*x10+x02*x06*x08*x09+x04*x06*x07*x09+x03*x07*x08*x10+x04*x07*x08*x10+x04*x07*x08*x09+x04*x05*x09*x10+x03*x05*x08*x10+x01*x05*x06*x09+x03*x06*x08*x09+x01*x05*x07*x08+x03*x06*x09*x10+x04*x05*x07*x10+x02*x05*x07*x08+x01*x06*x07*x09:\n",
      ">     p[70] := x02*x03*x03*x07+x02*x02*x03*x07+x01*x01*x03*x09+x03*x03*x04*x05+x01*x03*x03*x09+x03*x04*x04*x05+x01*x01*x04*x08+x01*x01*x02*x10+x01*x02*x02*x10+x01*x04*x04*x08+x02*x02*x04*x06+x02*x04*x04*x06:\n",
      ">     p[71] := x03*x04*x06*x07+x01*x04*x06*x10+x01*x03*x07*x10+x03*x04*x08*x09+x02*x03*x09*x10+x02*x04*x05*x07+x01*x02*x06*x08+x02*x03*x05*x06+x01*x04*x05*x09+x01*x02*x07*x09+x02*x04*x08*x10+x01*x03*x05*x08:\n",
      ">     p[72] := x02*x06*x07*x10+x04*x05*x06*x08+x01*x08*x09*x10+x03*x05*x07*x09:\n",
      ">     p[73] := x01*x01*x02*x03+x01*x02*x03*x03+x01*x01*x03*x04+x01*x03*x03*x04+x01*x02*x02*x03+x01*x01*x02*x04+x01*x03*x04*x04+x01*x02*x02*x04+x01*x02*x04*x04+x02*x03*x03*x04+x02*x03*x04*x04+x02*x02*x03*x04:\n",
      ">     p[74] := x02*x02*x02*x02+x04*x04*x04*x04+x01*x01*x01*x01+x03*x03*x03*x03:\n",
      ">     p[75] := x03*x03*x03*x08+x04*x04*x04*x10+x04*x04*x04*x07+x01*x01*x01*x06+x03*x03*x03*x10+x01*x01*x01*x05+x03*x03*x03*x06+x02*x02*x02*x09+x02*x02*x02*x05+x04*x04*x04*x09+x01*x01*x01*x07+x02*x02*x02*x08:\n",
      ">     p[76] := x02*x03*x04*x08+x02*x03*x04*x09+x02*x03*x04*x10+x01*x02*x03*x06+x01*x02*x04*x07+x01*x02*x04*x09+x01*x02*x03*x08+x01*x03*x04*x10+x01*x03*x04*x06+x01*x02*x03*x05+x01*x02*x04*x05+x01*x03*x04*x07:\n",
      ">     p[77] := x03*x03*x08*x08+x03*x03*x10*x10+x01*x01*x06*x06+x03*x03*x06*x06+x01*x01*x05*x05+x02*x02*x09*x09+x04*x04*x10*x10+x01*x01*x07*x07+x04*x04*x09*x09+x04*x04*x07*x07+x02*x02*x08*x08+x02*x02*x05*x05:\n",
      ">     p[78] := x01*x05*x06*x08+x04*x06*x07*x10+x01*x06*x07*x10+x02*x08*x09*x10+x03*x06*x07*x10+x01*x05*x07*x09+x04*x05*x07*x09+x03*x08*x09*x10+x04*x08*x09*x10+x02*x05*x07*x09+x03*x05*x06*x08+x02*x05*x06*x08:\n",
      ">     p[79] := x02*x03*x07*x08+x01*x03*x06*x09+x01*x02*x05*x10+x02*x04*x06*x09+x01*x04*x07*x08+x03*x04*x05*x10:\n",
      ">     p[80] := x06*x06*x09*x09+x07*x07*x08*x08+x05*x05*x10*x10:\n",
      ">     p[81] := x01*x02*x03*x04:\n",
      ">     p[82] := x02*x05*x08*x09+x03*x06*x08*x10+x04*x07*x09*x10+x01*x05*x06*x07:\n",
      "> \n",
      "> \n",
      "> energy := 0;\n",
      "                                  energy := 0\n",
      "\n",
      "> for k from 1 by 1 to 82 do\n",
      ">     energy := energy + a[k]*p[k]:\n",
      "> od:\n",
      "> \n",
      "> args := [x01, x02, x03, x04, x05, x06, x07, x08, x09, x10]:\n",
      "> \n",
      "> energy := convert(energy, 'horner', args):\n",
      "memory used=2.8MB, alloc=40.3MB, time=0.18\n",
      "> \n",
      "> energy_proc := codegen[makeproc](energy, parameters = args):\n",
      "> codegen[cost](energy_proc);\n",
      "            999 additions + 1000 multiplications + 1000 subscripts\n",
      "\n",
      "> \n",
      "> xxx := codegen[optimize](energy_proc):\n",
      "> codegen[cost](xxx);\n",
      "288 storage + 288 assignments + 82 subscripts + 476 multiplications\n",
      "\n",
      "     + 959 additions\n",
      "\n",
      "> \n",
      "> xxx := codegen[packargs](xxx, args, x):\n",
      "> xxx := codegen[optimize](xxx):\n",
      "> \n",
      "> codegen[C](xxx, optimized, filename=\"poly-nogrd.c\"):\n",
      "memory used=42.2MB, alloc=44.3MB, time=0.70\n",
      "codegen/C/pretreatment:   WARNING: Unable to determine array bounds in   a[1]\n",
      "codegen/C/pretreatment:   WARNING: Unable to determine array bounds in   a[8]\n",
      "codegen/C/pretreatment:   WARNING: Unable to determine array bounds in   a[46]\n",
      "codegen/C/pretreatment:   WARNING: Unable to determine array bounds in   a[27]\n",
      "codegen/C/pretreatment:   WARNING: Unable to determine array bounds in   a[3]\n",
      "codegen/C/pretreatment:   WARNING: Unable to determine array bounds in   a[32]\n",
      "codegen/C/pretreatment:   WARNING: Unable to determine array bounds in   a[21]\n",
      "codegen/C/pretreatment:   WARNING: Unable to determine array bounds in   a[30]\n",
      "codegen/C/pretreatment:   WARNING: Unable to determine array bounds in   a[48]\n",
      "codegen/C/pretreatment:   WARNING: Unable to determine array bounds in   a[12]\n",
      "codegen/C/pretreatment:   WARNING: Unable to determine array bounds in   a[35]\n",
      "codegen/C/pretreatment:   WARNING: Unable to determine array bounds in   a[22]\n",
      "codegen/C/pretreatment:   WARNING: Unable to determine array bounds in   a[6]\n",
      "codegen/C/pretreatment:   WARNING: Unable to determine array bounds in   a[52]\n",
      "codegen/C/pretreatment:   WARNING: Unable to determine array bounds in   a[14]\n",
      "codegen/C/pretreatment:   WARNING: Unable to determine array bounds in   a[31]\n",
      "codegen/C/pretreatment:   WARNING: Unable to determine array bounds in   a[67]\n",
      "codegen/C/pretreatment:   WARNING: Unable to determine array bounds in   a[58]\n",
      "codegen/C/pretreatment:   WARNING: Unable to determine array bounds in   a[28]\n",
      "codegen/C/pretreatment:   WARNING: Unable to determine array bounds in   a[80]\n",
      "codegen/C/pretreatment:   WARNING: Unable to determine array bounds in   a[57]\n",
      "codegen/C/pretreatment:   WARNING: Unable to determine array bounds in   a[2]\n",
      "codegen/C/pretreatment:   WARNING: Unable to determine array bounds in   a[5]\n",
      "codegen/C/pretreatment:   WARNING: Unable to determine array bounds in   a[55]\n",
      "codegen/C/pretreatment:   WARNING: Unable to determine array bounds in   a[25]\n",
      "codegen/C/pretreatment:   WARNING: Unable to determine array bounds in   a[37]\n",
      "codegen/C/pretreatment:   WARNING: Unable to determine array bounds in   a[19]\n",
      "codegen/C/pretreatment:   WARNING: Unable to determine array bounds in   a[4]\n",
      "codegen/C/pretreatment:   WARNING: Unable to determine array bounds in   a[36]\n",
      "codegen/C/pretreatment:   WARNING: Unable to determine array bounds in   a[13]\n",
      "codegen/C/pretreatment:   WARNING: Unable to determine array bounds in   a[78]\n",
      "codegen/C/pretreatment:   WARNING: Unable to determine array bounds in   a[66]\n",
      "codegen/C/pretreatment:   WARNING: Unable to determine array bounds in   a[62]\n",
      "codegen/C/pretreatment:   WARNING: Unable to determine array bounds in   a[15]\n",
      "codegen/C/pretreatment:   WARNING: Unable to determine array bounds in   a[82]\n",
      "codegen/C/pretreatment:   WARNING: Unable to determine array bounds in   a[54]\n",
      "codegen/C/pretreatment:   WARNING: Unable to determine array bounds in   a[69]\n",
      "codegen/C/pretreatment:   WARNING: Unable to determine array bounds in   a[18]\n",
      "codegen/C/pretreatment:   WARNING: Unable to determine array bounds in   a[49]\n",
      "codegen/C/pretreatment:   WARNING: Unable to determine array bounds in   a[33]\n",
      "codegen/C/pretreatment:   WARNING: Unable to determine array bounds in   a[63]\n",
      "codegen/C/pretreatment:   WARNING: Unable to determine array bounds in   a[34]\n",
      "codegen/C/pretreatment:   WARNING: Unable to determine array bounds in   a[10]\n",
      "codegen/C/pretreatment:   WARNING: Unable to determine array bounds in   a[72]\n",
      "codegen/C/pretreatment:   WARNING: Unable to determine array bounds in   a[7]\n",
      "codegen/C/pretreatment:   WARNING: Unable to determine array bounds in   a[77]\n",
      "codegen/C/pretreatment:   WARNING: Unable to determine array bounds in   a[17]\n",
      "codegen/C/pretreatment:   WARNING: Unable to determine array bounds in   a[42]\n",
      "codegen/C/pretreatment:   WARNING: Unable to determine array bounds in   a[47]\n",
      "codegen/C/pretreatment:   WARNING: Unable to determine array bounds in   a[41]\n",
      "codegen/C/pretreatment:   WARNING: Unable to determine array bounds in   a[23]\n",
      "codegen/C/pretreatment:   WARNING: Unable to determine array bounds in   a[45]\n",
      "codegen/C/pretreatment:   WARNING: Unable to determine array bounds in   a[51]\n",
      "codegen/C/pretreatment:   WARNING: Unable to determine array bounds in   a[74]\n",
      "codegen/C/pretreatment:   WARNING: Unable to determine array bounds in   a[39]\n",
      "codegen/C/pretreatment:   WARNING: Unable to determine array bounds in   a[75]\n",
      "codegen/C/pretreatment:   WARNING: Unable to determine array bounds in   a[29]\n",
      "codegen/C/pretreatment:   WARNING: Unable to determine array bounds in   a[9]\n",
      "codegen/C/pretreatment:   WARNING: Unable to determine array bounds in   a[59]\n",
      "codegen/C/pretreatment:   WARNING: Unable to determine array bounds in   a[11]\n",
      "codegen/C/pretreatment:   WARNING: Unable to determine array bounds in   a[50]\n",
      "codegen/C/pretreatment:   WARNING: Unable to determine array bounds in   a[40]\n",
      "codegen/C/pretreatment:   WARNING: Unable to determine array bounds in   a[24]\n",
      "codegen/C/pretreatment:   WARNING: Unable to determine array bounds in   a[71]\n",
      "codegen/C/pretreatment:   WARNING: Unable to determine array bounds in   a[43]\n",
      "codegen/C/pretreatment:   WARNING: Unable to determine array bounds in   a[44]\n",
      "codegen/C/pretreatment:   WARNING: Unable to determine array bounds in   a[53]\n",
      "codegen/C/pretreatment:   WARNING: Unable to determine array bounds in   a[65]\n",
      "codegen/C/pretreatment:   WARNING: Unable to determine array bounds in   a[79]\n",
      "codegen/C/pretreatment:   WARNING: Unable to determine array bounds in   a[16]\n",
      "codegen/C/pretreatment:   WARNING: Unable to determine array bounds in   a[60]\n",
      "codegen/C/pretreatment:   WARNING: Unable to determine array bounds in   a[70]\n",
      "codegen/C/pretreatment:   WARNING: Unable to determine array bounds in   a[56]\n",
      "codegen/C/pretreatment:   WARNING: Unable to determine array bounds in   a[38]\n",
      "codegen/C/pretreatment:   WARNING: Unable to determine array bounds in   a[64]\n",
      "codegen/C/pretreatment:   WARNING: Unable to determine array bounds in   a[20]\n",
      "codegen/C/pretreatment:   WARNING: Unable to determine array bounds in   a[68]\n",
      "codegen/C/pretreatment:   WARNING: Unable to determine array bounds in   a[73]\n",
      "codegen/C/pretreatment:   WARNING: Unable to determine array bounds in   a[61]\n",
      "codegen/C/pretreatment:   WARNING: Unable to determine array bounds in   a[76]\n",
      "codegen/C/pretreatment:   WARNING: Unable to determine array bounds in   a[26]\n",
      "codegen/C/pretreatment:   WARNING: Unable to determine array bounds in   a[81]\n",
      "> quit\n",
      "memory used=61.0MB, alloc=44.3MB, time=1.02\n",
      "    |\\^/|     Maple 2016 (X86 64 LINUX)\n",
      "._|\\|   |/|_. Copyright (c) Maplesoft, a division of Waterloo Maple Inc. 2016\n",
      " \\  MAPLE  /  All rights reserved. Maple is a trademark of\n",
      " <____ ____>  Waterloo Maple Inc.\n",
      "      |       Type ? for help.\n",
      ">     p[1] := x10+x08+x06+x07+x09+x05:\n",
      ">     p[2] := x04+x02+x01+x03:\n",
      "> \n",
      ">     p[3] := x09*x10+x08*x10+x05*x06+x06*x07+x08*x09+x05*x07+x05*x08+x06*x10+x07*x10+x06*x08+x07*x09+x05*x09:\n",
      ">     p[4] := x03*x07+x01*x10+x01*x09+x04*x05+x02*x06+x02*x10+x01*x08+x04*x08+x03*x05+x04*x06+x02*x07+x03*x09:\n",
      ">     p[5] := x01*x05+x02*x05+x04*x10+x04*x09+x03*x06+x02*x09+x02*x08+x03*x08+x01*x07+x01*x06+x03*x10+x04*x07:\n",
      ">     p[6] := x07*x08+x06*x09+x05*x10:\n",
      ">     p[7] := x04*x04+x01*x01+x02*x02+x03*x03:\n",
      ">     p[8] := x08*x08+x07*x07+x05*x05+x10*x10+x09*x09+x06*x06:\n",
      ">     p[9] := x01*x02+x03*x04+x01*x03+x02*x03+x01*x04+x02*x04:\n",
      "> \n",
      ">     p[10] := x04*x06*x08+x02*x06*x10+x01*x09*x10+x04*x05*x06+x03*x05*x07+x02*x07*x10+x04*x05*x08+x01*x08*x09+x03*x07*x09+x02*x06*x07+x03*x05*x09+x01*x08*x10:\n",
      ">     p[11] := x01*x03*x06+x01*x02*x05+x01*x04*x07+x02*x03*x08+x02*x04*x09+x03*x04*x10:\n",
      ">     p[12] := x06*x07*x10+x08*x09*x10+x05*x06*x08+x05*x07*x09:\n",
      ">     p[13] := x02*x06*x08+x04*x08*x10+x04*x06*x07+x04*x05*x09+x04*x05*x07+x01*x07*x09+x02*x09*x10+x04*x08*x09+x03*x05*x06+x01*x05*x09+x01*x06*x10+x02*x05*x06+x03*x08*x09+x04*x06*x10+x02*x05*x07+x02*x07*x09+x02*x08*x10+x03*x05*x08+x03*x09*x10+x01*x05*x08+x03*x07*x10+x03*x06*x07+x01*x06*x08+x01*x07*x10:\n",
      ">     p[14] := x06*x07*x09+x05*x07*x08+x05*x06*x09+x07*x08*x09+x07*x08*x10+x06*x08*x09+x06*x09*x10+x06*x07*x08+x05*x09*x10+x05*x07*x10+x05*x08*x10+x05*x06*x10:\n",
      ">     p[15] := x02*x07*x07+x01*x09*x09+x04*x06*x06+x03*x07*x07+x03*x09*x09+x02*x06*x06+x01*x10*x10+x04*x08*x08+x01*x08*x08+x02*x10*x10+x04*x05*x05+x03*x05*x05:\n",
      ">     p[16] := x01*x03*x09+x02*x03*x07+x03*x04*x05+x02*x04*x06+x01*x02*x10+x01*x04*x08:\n",
      ">     p[17] := x01*x01*x07+x04*x04*x07+x02*x02*x09+x03*x03*x06+x03*x03*x10+x03*x03*x08+x04*x04*x09+x02*x02*x05+x01*x01*x06+x02*x02*x08+x01*x01*x05+x04*x04*x10:\n",
      ">     p[18] := x01*x06*x09+x02*x06*x09+x04*x06*x09+x03*x05*x10+x02*x07*x08+x04*x07*x08+x03*x06*x09+x03*x07*x08+x01*x07*x08+x02*x05*x10+x01*x05*x10+x04*x05*x10:\n",
      ">     p[19] := x04*x09*x10+x01*x05*x06+x01*x06*x07+x04*x07*x10+x02*x05*x08+x02*x08*x09+x01*x05*x07+x03*x08*x10+x04*x07*x09+x03*x06*x10+x03*x06*x08+x02*x05*x09:\n",
      ">     p[20] := x02*x03*x03+x02*x02*x03+x02*x02*x04+x03*x04*x04+x01*x04*x04+x01*x03*x03+x01*x01*x04+x02*x04*x04+x01*x01*x03+x01*x02*x02+x01*x01*x02+x03*x03*x04:\n",
      ">     p[21] := x09*x10*x10+x09*x09*x10+x05*x09*x09+x06*x07*x07+x05*x08*x08+x05*x05*x08+x05*x07*x07+x08*x10*x10+x08*x09*x09+x05*x06*x06+x05*x05*x07+x06*x06*x10+x08*x08*x09+x06*x06*x08+x05*x05*x06+x07*x07*x09+x05*x05*x09+x06*x10*x10+x07*x10*x10+x07*x07*x10+x06*x06*x07+x08*x08*x10+x06*x08*x08+x07*x09*x09:\n",
      ">     p[22] := x07*x09*x10+x05*x08*x09+x06*x08*x10+x05*x06*x07:\n",
      ">     p[23] := x01*x01*x09+x04*x04*x05+x03*x03*x05+x04*x04*x08+x01*x01*x10+x03*x03*x07+x02*x02*x07+x02*x02*x10+x02*x02*x06+x04*x04*x06+x01*x01*x08+x03*x03*x09:\n",
      ">     p[24] := x01*x04*x05+x02*x04*x08+x01*x02*x07+x03*x04*x07+x01*x02*x08+x01*x04*x06+x01*x03*x07+x03*x04*x08+x01*x04*x10+x02*x03*x06+x02*x04*x10+x02*x03*x09+x02*x03*x10+x02*x04*x05+x01*x03*x08+x01*x02*x06+x02*x03*x05+x03*x04*x09+x01*x02*x09+x03*x04*x06+x01*x04*x09+x02*x04*x07+x01*x03*x05+x01*x03*x10:\n",
      ">     p[25] := x02*x08*x08+x03*x06*x06+x03*x08*x08+x01*x06*x06+x04*x07*x07+x02*x05*x05+x03*x10*x10+x04*x09*x09+x02*x09*x09+x01*x05*x05+x04*x10*x10+x01*x07*x07:\n",
      ">     p[26] := x02*x03*x04+x01*x02*x03+x01*x03*x04+x01*x02*x04:\n",
      ">     p[27] := x07*x07*x07+x10*x10*x10+x06*x06*x06+x08*x08*x08+x05*x05*x05+x09*x09*x09:\n",
      ">     p[28] := x06*x09*x09+x06*x06*x09+x05*x05*x10+x07*x08*x08+x07*x07*x08+x05*x10*x10:\n",
      ">     p[29] := x03*x03*x03+x01*x01*x01+x04*x04*x04+x02*x02*x02:\n",
      "> \n",
      ">     p[30] := x07*x07*x10*x10+x08*x08*x09*x09+x08*x08*x10*x10+x05*x05*x09*x09+x09*x09*x10*x10+x05*x05*x08*x08+x07*x07*x09*x09+x06*x06*x10*x10+x06*x06*x07*x07+x06*x06*x08*x08+x05*x05*x06*x06+x05*x05*x07*x07:\n",
      ">     p[31] := x06*x07*x08*x10+x07*x08*x09*x10+x05*x06*x07*x09+x05*x06*x08*x09+x05*x07*x08*x09+x05*x07*x09*x10+x06*x07*x09*x10+x06*x08*x09*x10+x05*x06*x07*x10+x05*x06*x07*x08+x05*x08*x09*x10+x05*x06*x08*x10:\n",
      ">     p[32] := x06*x07*x07*x07+x07*x09*x09*x09+x05*x05*x05*x08+x09*x10*x10*x10+x05*x08*x08*x08+x07*x10*x10*x10+x05*x05*x05*x06+x06*x10*x10*x10+x05*x06*x06*x06+x08*x08*x08*x10+x05*x05*x05*x07+x05*x09*x09*x09+x07*x07*x07*x10+x09*x09*x09*x10+x05*x07*x07*x07+x06*x06*x06*x08+x08*x10*x10*x10+x06*x06*x06*x10+x07*x07*x07*x09+x08*x08*x08*x09+x06*x06*x06*x07+x06*x08*x08*x08+x05*x05*x05*x09+x08*x09*x09*x09:\n",
      ">     p[33] := x03*x05*x05*x09+x01*x08*x08*x09+x04*x05*x08*x08+x02*x06*x06*x07+x01*x09*x09*x10+x02*x07*x07*x10+x01*x09*x10*x10+x04*x05*x05*x08+x02*x06*x06*x10+x02*x07*x10*x10+x02*x06*x07*x07+x01*x08*x09*x09+x04*x05*x05*x06+x03*x05*x09*x09+x02*x06*x10*x10+x03*x05*x07*x07+x03*x07*x07*x09+x01*x08*x10*x10+x04*x05*x06*x06+x03*x07*x09*x09+x04*x06*x06*x08+x03*x05*x05*x07+x04*x06*x08*x08+x01*x08*x08*x10:\n",
      ">     p[34] := x03*x05*x06*x07+x01*x07*x09*x10+x04*x05*x08*x09+x02*x07*x09*x10+x04*x06*x08*x10+x04*x05*x06*x07+x02*x06*x08*x10+x01*x06*x08*x10+x01*x05*x08*x09+x03*x07*x09*x10+x02*x05*x06*x07+x03*x05*x08*x09:\n",
      ">     p[35] := x07*x07*x09*x10+x05*x06*x06*x07+x07*x09*x09*x10+x07*x09*x10*x10+x06*x06*x08*x10+x05*x06*x07*x07+x06*x08*x08*x10+x05*x08*x08*x09+x05*x05*x06*x07+x05*x05*x08*x09+x05*x08*x09*x09+x06*x08*x10*x10:\n",
      ">     p[36] := x03*x07*x10*x10+x04*x06*x10*x10+x02*x08*x08*x10+x01*x05*x05*x08+x03*x05*x06*x06+x02*x07*x09*x09+x04*x08*x09*x09+x04*x05*x07*x07+x01*x06*x06*x10+x01*x07*x07*x10+x03*x06*x06*x07+x02*x05*x05*x06+x02*x06*x08*x08+x02*x05*x05*x07+x04*x08*x10*x10+x01*x07*x07*x09+x01*x05*x05*x09+x03*x08*x08*x09+x04*x06*x07*x07+x03*x09*x10*x10+x04*x05*x09*x09+x01*x06*x06*x08+x02*x09*x09*x10+x03*x05*x08*x08:\n",
      ">     p[37] := x02*x05*x08*x08+x01*x06*x06*x07+x03*x08*x08*x10+x02*x05*x05*x08+x04*x09*x09*x10+x03*x06*x06*x08+x03*x06*x08*x08+x04*x07*x07*x10+x04*x07*x10*x10+x03*x08*x10*x10+x02*x08*x08*x09+x04*x07*x09*x09+x02*x05*x05*x09+x04*x09*x10*x10+x02*x05*x09*x09+x01*x05*x05*x06+x01*x06*x07*x07+x02*x08*x09*x09+x01*x05*x07*x07+x03*x06*x10*x10+x01*x05*x06*x06+x01*x05*x05*x07+x04*x07*x07*x09+x03*x06*x06*x10:\n",
      ">     p[38] := x01*x01*x03*x07+x01*x01*x02*x07+x01*x02*x02*x09+x03*x04*x04*x09+x01*x01*x03*x05+x01*x04*x04*x10+x02*x03*x03*x10+x02*x03*x03*x06+x01*x03*x03*x10+x02*x02*x04*x05+x03*x03*x04*x08+x02*x02*x04*x08+x01*x01*x04*x06+x01*x01*x04*x05+x01*x01*x02*x06+x03*x04*x04*x07+x01*x04*x04*x09+x02*x02*x03*x05+x02*x04*x04*x10+x03*x03*x04*x06+x02*x04*x04*x07+x02*x02*x03*x09+x01*x03*x03*x08+x01*x02*x02*x08:\n",
      ">     p[39] := x01*x01*x01*x09+x04*x04*x04*x06+x04*x04*x04*x08+x02*x02*x02*x06+x03*x03*x03*x07+x02*x02*x02*x07+x01*x01*x01*x08+x04*x04*x04*x05+x01*x01*x01*x10+x03*x03*x03*x05+x02*x02*x02*x10+x03*x03*x03*x09:\n",
      ">     p[40] := x03*x04*x06*x10+x02*x03*x06*x08+x01*x04*x05*x07+x01*x02*x05*x07+x02*x04*x07*x09+x01*x02*x05*x08+x02*x04*x08*x09+x02*x03*x05*x08+x01*x03*x05*x06+x03*x04*x08*x10+x01*x03*x06*x08+x02*x04*x05*x09+x03*x04*x09*x10+x01*x02*x05*x06+x03*x04*x07*x10+x01*x04*x07*x09+x01*x03*x06*x07+x01*x02*x05*x09+x02*x04*x09*x10+x01*x03*x06*x10+x01*x04*x06*x07+x01*x04*x07*x10+x02*x03*x08*x09+x02*x03*x08*x10:\n",
      ">     p[41] := x01*x01*x07*x09+x03*x03*x05*x06+x02*x02*x08*x10+x02*x02*x07*x09+x04*x04*x05*x09+x03*x03*x09*x10+x01*x01*x06*x10+x04*x04*x05*x07+x02*x02*x06*x08+x01*x01*x05*x08+x03*x03*x08*x09+x04*x04*x08*x09+x04*x04*x06*x07+x03*x03*x06*x07+x03*x03*x07*x10+x01*x01*x05*x09+x02*x02*x05*x07+x04*x04*x06*x10+x01*x01*x07*x10+x02*x02*x05*x06+x03*x03*x05*x08+x01*x01*x06*x08+x02*x02*x09*x10+x04*x04*x08*x10:\n",
      ">     p[42] := x04*x04*x09*x10+x02*x02*x08*x09+x01*x01*x06*x07+x02*x02*x05*x09+x03*x03*x06*x08+x03*x03*x08*x10+x04*x04*x07*x09+x01*x01*x05*x06+x01*x01*x05*x07+x03*x03*x06*x10+x04*x04*x07*x10+x02*x02*x05*x08:\n",
      ">     p[43] := x02*x03*x05*x10+x01*x02*x07*x08+x01*x03*x07*x08+x02*x03*x06*x09+x02*x04*x05*x10+x02*x04*x07*x08+x01*x03*x05*x10+x01*x04*x06*x09+x01*x04*x05*x10+x01*x02*x06*x09+x03*x04*x07*x08+x03*x04*x06*x09:\n",
      ">     p[44] := x01*x02*x06*x07+x03*x04*x06*x08+x02*x04*x07*x10+x02*x03*x05*x09+x01*x02*x08*x09+x01*x04*x05*x06+x02*x04*x05*x08+x03*x04*x07*x09+x01*x03*x05*x07+x01*x03*x08*x10+x02*x03*x06*x10+x01*x04*x09*x10:\n",
      ">     p[45] := x04*x04*x06*x09+x01*x01*x05*x10+x01*x01*x07*x08+x03*x03*x07*x08+x02*x02*x05*x10+x03*x03*x06*x09+x01*x01*x06*x09+x02*x02*x07*x08+x02*x02*x06*x09+x03*x03*x05*x10+x04*x04*x05*x10+x04*x04*x07*x08:\n",
      ">     p[46] := x07*x07*x07*x07+x06*x06*x06*x06+x05*x05*x05*x05+x10*x10*x10*x10+x09*x09*x09*x09+x08*x08*x08*x08:\n",
      ">     p[47] := x01*x01*x09*x09+x04*x04*x08*x08+x03*x03*x07*x07+x03*x03*x09*x09+x02*x02*x10*x10+x04*x04*x06*x06+x04*x04*x05*x05+x02*x02*x06*x06+x02*x02*x07*x07+x03*x03*x05*x05+x01*x01*x10*x10+x01*x01*x08*x08:\n",
      ">     p[48] := x08*x09*x10*x10+x05*x06*x06*x08+x06*x07*x07*x10+x05*x05*x06*x08+x08*x08*x09*x10+x05*x06*x08*x08+x06*x06*x07*x10+x05*x05*x07*x09+x05*x07*x09*x09+x05*x07*x07*x09+x08*x09*x09*x10+x06*x07*x10*x10:\n",
      ">     p[49] := x01*x07*x07*x08+x01*x05*x05*x10+x04*x07*x07*x08+x03*x06*x06*x09+x04*x06*x09*x09+x02*x07*x08*x08+x01*x06*x06*x09+x02*x05*x05*x10+x02*x06*x09*x09+x03*x07*x08*x08+x03*x05*x10*x10+x04*x05*x10*x10:\n",
      ">     p[50] := x01*x02*x07*x07+x02*x04*x07*x07+x01*x04*x05*x05+x01*x04*x10*x10+x01*x02*x09*x09+x01*x03*x07*x07+x01*x03*x08*x08+x02*x04*x08*x08+x01*x02*x06*x06+x01*x02*x08*x08+x01*x03*x05*x05+x02*x03*x06*x06+x01*x04*x06*x06+x03*x04*x07*x07+x02*x03*x09*x09+x03*x04*x08*x08+x01*x03*x10*x10+x02*x04*x05*x05+x03*x04*x06*x06+x02*x04*x10*x10+x01*x04*x09*x09+x03*x04*x09*x09+x02*x03*x10*x10+x02*x03*x05*x05:\n",
      ">     p[51] := x01*x01*x09*x10+x04*x04*x05*x06+x02*x02*x06*x10+x03*x03*x05*x09+x04*x04*x06*x08+x02*x02*x07*x10+x01*x01*x08*x09+x04*x04*x05*x08+x03*x03*x07*x09+x01*x01*x08*x10+x02*x02*x06*x07+x03*x03*x05*x07:\n",
      ">     p[52] := x05*x05*x07*x08+x05*x06*x06*x10+x06*x06*x07*x08+x07*x08*x09*x09+x05*x07*x07*x10+x05*x08*x08*x10+x06*x07*x07*x09+x07*x08*x10*x10+x06*x09*x10*x10+x05*x09*x09*x10+x05*x05*x06*x09+x06*x08*x08*x09:\n",
      ">     p[53] := x03*x04*x05*x05+x01*x04*x08*x08+x02*x04*x06*x06+x01*x02*x10*x10+x02*x03*x07*x07+x01*x03*x09*x09:\n",
      ">     p[54] := x02*x06*x06*x09+x01*x07*x08*x08+x04*x07*x08*x08+x03*x06*x09*x09+x01*x05*x10*x10+x03*x05*x05*x10+x03*x07*x07*x08+x01*x06*x09*x09+x02*x05*x10*x10+x04*x05*x05*x10+x02*x07*x07*x08+x04*x06*x06*x09:\n",
      ">     p[55] := x02*x05*x05*x05+x04*x09*x09*x09+x03*x10*x10*x10+x01*x07*x07*x07+x04*x07*x07*x07+x03*x06*x06*x06+x02*x09*x09*x09+x03*x08*x08*x08+x01*x06*x06*x06+x02*x08*x08*x08+x01*x05*x05*x05+x04*x10*x10*x10:\n",
      ">     p[56] := x01*x01*x02*x09+x01*x03*x03*x05+x03*x03*x04*x07+x03*x04*x04*x06+x01*x01*x02*x08+x01*x03*x03*x07+x01*x04*x04*x05+x01*x01*x04*x09+x02*x04*x04*x08+x01*x02*x02*x07+x02*x02*x04*x07+x03*x03*x04*x09+x02*x04*x04*x05+x02*x02*x03*x06+x01*x02*x02*x06+x02*x03*x03*x05+x03*x04*x04*x08+x01*x01*x04*x10+x01*x01*x03*x10+x02*x02*x03*x10+x02*x02*x04*x10+x02*x03*x03*x09+x01*x01*x03*x08+x01*x04*x04*x06:\n",
      ">     p[57] := x06*x07*x08*x09+x05*x06*x09*x10+x05*x07*x08*x10:\n",
      ">     p[58] := x05*x07*x08*x08+x05*x08*x10*x10+x06*x06*x09*x10+x05*x05*x08*x10+x07*x08*x08*x10+x05*x05*x09*x10+x05*x06*x10*x10+x06*x07*x09*x09+x06*x07*x07*x08+x05*x07*x07*x08+x05*x09*x10*x10+x05*x07*x10*x10+x05*x05*x07*x10+x06*x09*x09*x10+x06*x06*x08*x09+x05*x06*x09*x09+x07*x07*x08*x09+x07*x07*x08*x10+x05*x06*x06*x09+x06*x06*x07*x09+x06*x08*x09*x09+x07*x08*x08*x09+x05*x05*x06*x10+x06*x07*x08*x08:\n",
      ">     p[59] := x01*x04*x07*x07+x02*x04*x09*x09+x01*x03*x06*x06+x02*x03*x08*x08+x03*x04*x10*x10+x01*x02*x05*x05:\n",
      ">     p[60] := x01*x01*x01*x03+x02*x03*x03*x03+x01*x01*x01*x04+x01*x04*x04*x04+x02*x02*x02*x04+x03*x04*x04*x04+x02*x04*x04*x04+x03*x03*x03*x04+x01*x02*x02*x02+x01*x01*x01*x02+x02*x02*x02*x03+x01*x03*x03*x03:\n",
      ">     p[61] := x01*x02*x03*x09+x01*x03*x04*x05+x01*x02*x03*x07+x02*x03*x04*x07+x02*x03*x04*x05+x01*x02*x04*x10+x01*x02*x04*x06+x01*x03*x04*x09+x01*x02*x04*x08+x01*x02*x03*x10+x01*x03*x04*x08+x02*x03*x04*x06:\n",
      ">     p[62] := x04*x05*x05*x09+x04*x08*x08*x10+x02*x07*x07*x09+x03*x08*x09*x09+x02*x05*x06*x06+x01*x06*x10*x10+x01*x06*x08*x08+x02*x05*x07*x07+x04*x08*x08*x09+x03*x07*x07*x10+x01*x07*x09*x09+x04*x06*x06*x10+x03*x06*x07*x07+x04*x06*x06*x07+x01*x07*x10*x10+x03*x05*x05*x08+x02*x06*x06*x08+x03*x09*x09*x10+x01*x05*x08*x08+x03*x05*x05*x06+x02*x09*x10*x10+x04*x05*x05*x07+x02*x08*x10*x10+x01*x05*x09*x09:\n",
      ">     p[63] := x03*x05*x06*x09+x03*x07*x08*x09+x01*x06*x08*x09+x02*x06*x07*x09+x02*x05*x07*x10+x04*x05*x08*x10+x01*x05*x08*x10+x01*x07*x08*x10+x03*x05*x09*x10+x01*x06*x09*x10+x03*x05*x07*x08+x01*x05*x09*x10+x02*x05*x06*x10+x03*x06*x07*x09+x04*x05*x07*x08+x04*x05*x06*x09+x02*x06*x09*x10+x01*x07*x08*x09+x04*x06*x08*x09+x02*x06*x07*x08+x04*x05*x06*x10+x04*x06*x07*x08+x03*x05*x07*x10+x02*x07*x08*x10:\n",
      ">     p[64] := x01*x03*x03*x06+x01*x01*x03*x06+x02*x04*x04*x09+x01*x01*x02*x05+x02*x03*x03*x08+x02*x02*x03*x08+x03*x03*x04*x10+x01*x04*x04*x07+x01*x02*x02*x05+x03*x04*x04*x10+x01*x01*x04*x07+x02*x02*x04*x09:\n",
      ">     p[65] := x02*x04*x06*x07+x02*x03*x05*x07+x03*x04*x05*x06+x01*x02*x06*x10+x01*x02*x08*x10+x01*x02*x09*x10+x01*x03*x07*x09+x02*x04*x06*x10+x02*x03*x06*x07+x02*x04*x05*x06+x01*x03*x09*x10+x03*x04*x05*x08+x02*x04*x06*x08+x01*x03*x08*x09+x01*x04*x08*x10+x03*x04*x05*x09+x01*x03*x05*x09+x01*x04*x05*x08+x01*x04*x06*x08+x01*x04*x08*x09+x02*x03*x07*x09+x03*x04*x05*x07+x02*x03*x07*x10+x01*x02*x07*x10:\n",
      ">     p[66] := x01*x10*x10*x10+x01*x09*x09*x09+x03*x07*x07*x07+x04*x08*x08*x08+x04*x06*x06*x06+x02*x10*x10*x10+x02*x07*x07*x07+x04*x05*x05*x05+x03*x09*x09*x09+x02*x06*x06*x06+x01*x08*x08*x08+x03*x05*x05*x05:\n",
      ">     p[67] := x06*x06*x06*x09+x05*x10*x10*x10+x06*x09*x09*x09+x07*x08*x08*x08+x07*x07*x07*x08+x05*x05*x05*x10:\n",
      ">     p[68] := x01*x01*x03*x03+x03*x03*x04*x04+x01*x01*x04*x04+x02*x02*x04*x04+x01*x01*x02*x02+x02*x02*x03*x03:\n",
      ">     p[69] := x01*x05*x07*x10+x04*x06*x09*x10+x01*x05*x06*x10+x02*x05*x06*x09+x03*x06*x07*x08+x02*x05*x08*x10+x01*x06*x07*x08+x03*x05*x06*x10+x02*x07*x08*x09+x02*x05*x09*x10+x02*x06*x08*x09+x04*x06*x07*x09+x03*x07*x08*x10+x04*x07*x08*x10+x04*x07*x08*x09+x04*x05*x09*x10+x03*x05*x08*x10+x01*x05*x06*x09+x03*x06*x08*x09+x01*x05*x07*x08+x03*x06*x09*x10+x04*x05*x07*x10+x02*x05*x07*x08+x01*x06*x07*x09:\n",
      ">     p[70] := x02*x03*x03*x07+x02*x02*x03*x07+x01*x01*x03*x09+x03*x03*x04*x05+x01*x03*x03*x09+x03*x04*x04*x05+x01*x01*x04*x08+x01*x01*x02*x10+x01*x02*x02*x10+x01*x04*x04*x08+x02*x02*x04*x06+x02*x04*x04*x06:\n",
      ">     p[71] := x03*x04*x06*x07+x01*x04*x06*x10+x01*x03*x07*x10+x03*x04*x08*x09+x02*x03*x09*x10+x02*x04*x05*x07+x01*x02*x06*x08+x02*x03*x05*x06+x01*x04*x05*x09+x01*x02*x07*x09+x02*x04*x08*x10+x01*x03*x05*x08:\n",
      ">     p[72] := x02*x06*x07*x10+x04*x05*x06*x08+x01*x08*x09*x10+x03*x05*x07*x09:\n",
      ">     p[73] := x01*x01*x02*x03+x01*x02*x03*x03+x01*x01*x03*x04+x01*x03*x03*x04+x01*x02*x02*x03+x01*x01*x02*x04+x01*x03*x04*x04+x01*x02*x02*x04+x01*x02*x04*x04+x02*x03*x03*x04+x02*x03*x04*x04+x02*x02*x03*x04:\n",
      ">     p[74] := x02*x02*x02*x02+x04*x04*x04*x04+x01*x01*x01*x01+x03*x03*x03*x03:\n",
      ">     p[75] := x03*x03*x03*x08+x04*x04*x04*x10+x04*x04*x04*x07+x01*x01*x01*x06+x03*x03*x03*x10+x01*x01*x01*x05+x03*x03*x03*x06+x02*x02*x02*x09+x02*x02*x02*x05+x04*x04*x04*x09+x01*x01*x01*x07+x02*x02*x02*x08:\n",
      ">     p[76] := x02*x03*x04*x08+x02*x03*x04*x09+x02*x03*x04*x10+x01*x02*x03*x06+x01*x02*x04*x07+x01*x02*x04*x09+x01*x02*x03*x08+x01*x03*x04*x10+x01*x03*x04*x06+x01*x02*x03*x05+x01*x02*x04*x05+x01*x03*x04*x07:\n",
      ">     p[77] := x03*x03*x08*x08+x03*x03*x10*x10+x01*x01*x06*x06+x03*x03*x06*x06+x01*x01*x05*x05+x02*x02*x09*x09+x04*x04*x10*x10+x01*x01*x07*x07+x04*x04*x09*x09+x04*x04*x07*x07+x02*x02*x08*x08+x02*x02*x05*x05:\n",
      ">     p[78] := x01*x05*x06*x08+x04*x06*x07*x10+x01*x06*x07*x10+x02*x08*x09*x10+x03*x06*x07*x10+x01*x05*x07*x09+x04*x05*x07*x09+x03*x08*x09*x10+x04*x08*x09*x10+x02*x05*x07*x09+x03*x05*x06*x08+x02*x05*x06*x08:\n",
      ">     p[79] := x02*x03*x07*x08+x01*x03*x06*x09+x01*x02*x05*x10+x02*x04*x06*x09+x01*x04*x07*x08+x03*x04*x05*x10:\n",
      ">     p[80] := x06*x06*x09*x09+x07*x07*x08*x08+x05*x05*x10*x10:\n",
      ">     p[81] := x01*x02*x03*x04:\n",
      ">     p[82] := x02*x05*x08*x09+x03*x06*x08*x10+x04*x07*x09*x10+x01*x05*x06*x07:\n",
      "> \n",
      "> \n",
      "> energy := 0;\n",
      "                                  energy := 0\n",
      "\n",
      "> for k from 1 by 1 to 82 do\n",
      ">     energy := energy + a[k]*p[k]:\n",
      "> od:\n",
      "> \n",
      "> args := [x01, x02, x03, x04, x05, x06, x07, x08, x09, x10]:\n",
      "> \n",
      "> energy := convert(energy, 'horner', args):\n",
      "memory used=2.8MB, alloc=40.3MB, time=0.17\n",
      "> \n",
      "> energy_proc := codegen[makeproc](energy, parameters = args):\n",
      "> codegen[cost](energy_proc);\n",
      "            999 additions + 1000 subscripts + 1000 multiplications\n",
      "\n",
      "> \n",
      "> xxx := codegen[GRADIENT](energy_proc, args, function_value = true):\n",
      "> codegen[cost](xxx);\n",
      "memory used=43.3MB, alloc=40.3MB, time=0.62\n",
      "            4420 subscripts + 4409 additions + 4630 multiplications\n",
      "\n",
      "> xxx := codegen[optimize](xxx):\n",
      "> codegen[cost](xxx);\n",
      "memory used=81.4MB, alloc=44.3MB, time=1.09\n",
      "734 storage + 734 assignments + 82 subscripts + 938 multiplications\n",
      "\n",
      "     + 2714 additions\n",
      "\n",
      "> \n",
      "> xxx := codegen[packargs](xxx, args, x):\n",
      "> xxx := codegen[optimize](xxx):\n",
      "> \n",
      "> codegen[C](xxx, optimized, filename=\"poly-grd.c\"):\n",
      "memory used=117.5MB, alloc=44.6MB, time=1.55\n",
      "codegen/C/pretreatment:   WARNING: Unable to determine array bounds in   a[1]\n",
      "codegen/C/pretreatment:   WARNING: Unable to determine array bounds in   a[8]\n",
      "codegen/C/pretreatment:   WARNING: Unable to determine array bounds in   a[46]\n",
      "codegen/C/pretreatment:   WARNING: Unable to determine array bounds in   a[27]\n",
      "codegen/C/pretreatment:   WARNING: Unable to determine array bounds in   a[3]\n",
      "codegen/C/pretreatment:   WARNING: Unable to determine array bounds in   a[32]\n",
      "codegen/C/pretreatment:   WARNING: Unable to determine array bounds in   a[21]\n",
      "codegen/C/pretreatment:   WARNING: Unable to determine array bounds in   a[30]\n",
      "codegen/C/pretreatment:   WARNING: Unable to determine array bounds in   a[48]\n",
      "codegen/C/pretreatment:   WARNING: Unable to determine array bounds in   a[12]\n",
      "codegen/C/pretreatment:   WARNING: Unable to determine array bounds in   a[35]\n",
      "codegen/C/pretreatment:   WARNING: Unable to determine array bounds in   a[22]\n",
      "codegen/C/pretreatment:   WARNING: Unable to determine array bounds in   a[6]\n",
      "codegen/C/pretreatment:   WARNING: Unable to determine array bounds in   a[52]\n",
      "codegen/C/pretreatment:   WARNING: Unable to determine array bounds in   a[14]\n",
      "codegen/C/pretreatment:   WARNING: Unable to determine array bounds in   a[31]\n",
      "codegen/C/pretreatment:   WARNING: Unable to determine array bounds in   a[67]\n",
      "codegen/C/pretreatment:   WARNING: Unable to determine array bounds in   a[58]\n",
      "codegen/C/pretreatment:   WARNING: Unable to determine array bounds in   a[28]\n",
      "codegen/C/pretreatment:   WARNING: Unable to determine array bounds in   a[80]\n",
      "codegen/C/pretreatment:   WARNING: Unable to determine array bounds in   a[57]\n",
      "codegen/C/pretreatment:   WARNING: Unable to determine array bounds in   a[2]\n",
      "codegen/C/pretreatment:   WARNING: Unable to determine array bounds in   a[5]\n",
      "codegen/C/pretreatment:   WARNING: Unable to determine array bounds in   a[55]\n",
      "codegen/C/pretreatment:   WARNING: Unable to determine array bounds in   a[25]\n",
      "codegen/C/pretreatment:   WARNING: Unable to determine array bounds in   a[37]\n",
      "codegen/C/pretreatment:   WARNING: Unable to determine array bounds in   a[19]\n",
      "codegen/C/pretreatment:   WARNING: Unable to determine array bounds in   a[4]\n",
      "codegen/C/pretreatment:   WARNING: Unable to determine array bounds in   a[36]\n",
      "codegen/C/pretreatment:   WARNING: Unable to determine array bounds in   a[13]\n",
      "codegen/C/pretreatment:   WARNING: Unable to determine array bounds in   a[78]\n",
      "codegen/C/pretreatment:   WARNING: Unable to determine array bounds in   a[66]\n",
      "codegen/C/pretreatment:   WARNING: Unable to determine array bounds in   a[62]\n",
      "codegen/C/pretreatment:   WARNING: Unable to determine array bounds in   a[15]\n",
      "codegen/C/pretreatment:   WARNING: Unable to determine array bounds in   a[82]\n",
      "codegen/C/pretreatment:   WARNING: Unable to determine array bounds in   a[54]\n",
      "codegen/C/pretreatment:   WARNING: Unable to determine array bounds in   a[69]\n",
      "codegen/C/pretreatment:   WARNING: Unable to determine array bounds in   a[18]\n",
      "codegen/C/pretreatment:   WARNING: Unable to determine array bounds in   a[49]\n",
      "codegen/C/pretreatment:   WARNING: Unable to determine array bounds in   a[33]\n",
      "codegen/C/pretreatment:   WARNING: Unable to determine array bounds in   a[63]\n",
      "codegen/C/pretreatment:   WARNING: Unable to determine array bounds in   a[34]\n",
      "codegen/C/pretreatment:   WARNING: Unable to determine array bounds in   a[10]\n",
      "codegen/C/pretreatment:   WARNING: Unable to determine array bounds in   a[72]\n",
      "codegen/C/pretreatment:   WARNING: Unable to determine array bounds in   a[7]\n",
      "codegen/C/pretreatment:   WARNING: Unable to determine array bounds in   a[77]\n",
      "codegen/C/pretreatment:   WARNING: Unable to determine array bounds in   a[17]\n",
      "codegen/C/pretreatment:   WARNING: Unable to determine array bounds in   a[42]\n",
      "codegen/C/pretreatment:   WARNING: Unable to determine array bounds in   a[47]\n",
      "codegen/C/pretreatment:   WARNING: Unable to determine array bounds in   a[41]\n",
      "codegen/C/pretreatment:   WARNING: Unable to determine array bounds in   a[23]\n",
      "codegen/C/pretreatment:   WARNING: Unable to determine array bounds in   a[45]\n",
      "codegen/C/pretreatment:   WARNING: Unable to determine array bounds in   a[51]\n",
      "codegen/C/pretreatment:   WARNING: Unable to determine array bounds in   a[74]\n",
      "codegen/C/pretreatment:   WARNING: Unable to determine array bounds in   a[39]\n",
      "codegen/C/pretreatment:   WARNING: Unable to determine array bounds in   a[75]\n",
      "codegen/C/pretreatment:   WARNING: Unable to determine array bounds in   a[29]\n",
      "codegen/C/pretreatment:   WARNING: Unable to determine array bounds in   a[9]\n",
      "codegen/C/pretreatment:   WARNING: Unable to determine array bounds in   a[59]\n",
      "codegen/C/pretreatment:   WARNING: Unable to determine array bounds in   a[11]\n",
      "codegen/C/pretreatment:   WARNING: Unable to determine array bounds in   a[50]\n",
      "codegen/C/pretreatment:   WARNING: Unable to determine array bounds in   a[40]\n",
      "codegen/C/pretreatment:   WARNING: Unable to determine array bounds in   a[24]\n",
      "codegen/C/pretreatment:   WARNING: Unable to determine array bounds in   a[71]\n",
      "codegen/C/pretreatment:   WARNING: Unable to determine array bounds in   a[43]\n",
      "codegen/C/pretreatment:   WARNING: Unable to determine array bounds in   a[44]\n",
      "codegen/C/pretreatment:   WARNING: Unable to determine array bounds in   a[53]\n",
      "codegen/C/pretreatment:   WARNING: Unable to determine array bounds in   a[65]\n",
      "codegen/C/pretreatment:   WARNING: Unable to determine array bounds in   a[79]\n",
      "codegen/C/pretreatment:   WARNING: Unable to determine array bounds in   a[16]\n",
      "codegen/C/pretreatment:   WARNING: Unable to determine array bounds in   a[60]\n",
      "codegen/C/pretreatment:   WARNING: Unable to determine array bounds in   a[70]\n",
      "codegen/C/pretreatment:   WARNING: Unable to determine array bounds in   a[56]\n",
      "codegen/C/pretreatment:   WARNING: Unable to determine array bounds in   a[38]\n",
      "codegen/C/pretreatment:   WARNING: Unable to determine array bounds in   a[64]\n",
      "codegen/C/pretreatment:   WARNING: Unable to determine array bounds in   a[20]\n",
      "codegen/C/pretreatment:   WARNING: Unable to determine array bounds in   a[68]\n",
      "codegen/C/pretreatment:   WARNING: Unable to determine array bounds in   a[73]\n",
      "codegen/C/pretreatment:   WARNING: Unable to determine array bounds in   a[61]\n",
      "codegen/C/pretreatment:   WARNING: Unable to determine array bounds in   a[76]\n",
      "codegen/C/pretreatment:   WARNING: Unable to determine array bounds in   a[26]\n",
      "codegen/C/pretreatment:   WARNING: Unable to determine array bounds in   a[81]\n",
      "memory used=153.1MB, alloc=44.6MB, time=2.03\n",
      "> quit\n",
      "memory used=167.2MB, alloc=44.6MB, time=2.36\n"
     ]
    }
   ],
   "source": [
    "for f in [\"poly-nogrd\", \"poly-grd\"]:\n",
    "    maple_file = f + \".maple\"\n",
    "    !maple $maple_file\n",
    "    c_file = f + \".c\"\n",
    "    cpp_file = f + \".cpp\"\n",
    "    !$potential_fitting_root_folder/polynomial_generation/src/clean-maple-c.pl < $c_file > $cpp_file"
   ]
  },
  {
   "cell_type": "markdown",
   "metadata": {},
   "source": [
    "# Fitting"
   ]
  },
  {
   "cell_type": "code",
   "execution_count": 56,
   "metadata": {
    "collapsed": true
   },
   "outputs": [],
   "source": [
    "os.chdir(\"..\")"
   ]
  },
  {
   "cell_type": "code",
   "execution_count": 57,
   "metadata": {
    "collapsed": true
   },
   "outputs": [],
   "source": [
    "os.mkdir(\"fitting\")"
   ]
  },
  {
   "cell_type": "code",
   "execution_count": 58,
   "metadata": {
    "collapsed": true
   },
   "outputs": [],
   "source": [
    "os.chdir(\"fitting\")"
   ]
  },
  {
   "cell_type": "markdown",
   "metadata": {},
   "source": [
    "### Setup fitting and compile"
   ]
  },
  {
   "cell_type": "code",
   "execution_count": 59,
   "metadata": {
    "collapsed": false
   },
   "outputs": [
    {
     "name": "stdout",
     "output_type": "stream",
     "text": [
      "/home/azonca/Paesani/potential_fitting/B1F4/fitting/../templates/normal\n",
      "B1F4\n",
      "cp: cannot stat ‘/home/azonca/Paesani/potential_fitting/B1F4/fitting/../templates/normal/*’: No such file or directory\n",
      "sed: can't read eval-1b-pot.cpp: No such file or directory\n",
      "sed: can't read eval-1b-pot-wgrads.cpp: No such file or directory\n",
      "sed: can't read fit-1b-polynomials.cpp: No such file or directory\n",
      "sed: can't read stuff.h: No such file or directory\n",
      "sed: can't read stuff.cpp: No such file or directory\n",
      "sed: can't read training-set.cpp: No such file or directory\n",
      "sed: can't read training-set.h: No such file or directory\n",
      "sed: can't read fit-utils.cpp: No such file or directory\n",
      "sed: can't read fit-utils.h: No such file or directory\n",
      "sed: can't read x1b-v1.cpp: No such file or directory\n",
      "sed: can't read x1b-v1.h: No such file or directory\n",
      "sed: can't read x1b-v1x.cpp: No such file or directory\n",
      "sed: can't read x1b-v1x.h: No such file or directory\n",
      "sed: can't read eval-1b-pot-wgrads.cpp: No such file or directory\n",
      "sed: can't read training-set.h: No such file or directory\n",
      "sed: can't read x1b-v1.cpp: No such file or directory\n",
      "sed: can't read x1b-v1x.cpp: No such file or directory\n",
      "sed: can't read x1b-v1.h: No such file or directory\n",
      "sed: can't read x1b-v1x.h: No such file or directory\n",
      "sed: can't read x1b-v1.h: No such file or directory\n",
      "head: cannot open ‘x1b-v1.h’ for reading: No such file or directory\n",
      "tail: cannot open ‘x1b-v1.h’ for reading: No such file or directory\n",
      "sed: can't read x1b-v1.cpp: No such file or directory\n",
      "head: cannot open ‘x1b-v1.cpp’ for reading: No such file or directory\n",
      "tail: cannot open ‘x1b-v1.cpp’ for reading: No such file or directory\n",
      "basis function halfway done\n",
      "B F\n",
      "head: cannot open ‘x1b-v1x.h’ for reading: No such file or directory\n",
      "tail: cannot open ‘x1b-v1x.h’ for reading: No such file or directory\n",
      "head: cannot open ‘x1b-v1x.cpp’ for reading: No such file or directory\n",
      "operator() in x1b-v1x.cpp halfway done\n",
      "operator() in x1b-v1x.cpp halfway done with grads\n",
      "head: cannot open ‘fit-1b-polynomials.cpp’ for reading: No such file or directory\n",
      "tail: cannot open ‘fit-1b-polynomials.cpp’ for reading: No such file or directory\n",
      "make: *** No targets specified and no makefile found.  Stop.\n"
     ]
    }
   ],
   "source": [
    "!$potential_fitting_root_folder/fitting/1B/get_codes/setup.ba ../polynomial_generation/poly-grd.cpp ../polynomial_generation/poly-nogrd.cpp ../polynomial_generation/poly-direct.cpp ../polynomial_generation/poly-model.h ../$input_file $order 0 ."
   ]
  },
  {
   "cell_type": "markdown",
   "metadata": {},
   "source": [
    "### Run fitting\n",
    "\n",
    "First make sure that the `.xyz` training set is available"
   ]
  },
  {
   "cell_type": "code",
   "execution_count": null,
   "metadata": {
    "collapsed": false
   },
   "outputs": [],
   "source": [
    "%cd B1F4/normal/4"
   ]
  },
  {
   "cell_type": "code",
   "execution_count": null,
   "metadata": {
    "collapsed": true
   },
   "outputs": [],
   "source": [
    "!ln -s  ~/Paesani/bf4_training_set.xyz ."
   ]
  },
  {
   "cell_type": "code",
   "execution_count": null,
   "metadata": {
    "collapsed": true
   },
   "outputs": [],
   "source": [
    "!./fit-1b-polynomials *_training_set.xyz > fit-1b-polynomials.log"
   ]
  },
  {
   "cell_type": "markdown",
   "metadata": {},
   "source": [
    "Check fitted output coefficients"
   ]
  },
  {
   "cell_type": "code",
   "execution_count": null,
   "metadata": {
    "collapsed": false
   },
   "outputs": [],
   "source": [
    "!cat fit-x1b-v1.dat"
   ]
  }
 ],
 "metadata": {
  "kernelspec": {
   "display_name": "Python 3",
   "language": "python",
   "name": "python3"
  },
  "language_info": {
   "codemirror_mode": {
    "name": "ipython",
    "version": 3
   },
   "file_extension": ".py",
   "mimetype": "text/x-python",
   "name": "python",
   "nbconvert_exporter": "python",
   "pygments_lexer": "ipython3",
   "version": "3.6.0"
  }
 },
 "nbformat": 4,
 "nbformat_minor": 2
}
