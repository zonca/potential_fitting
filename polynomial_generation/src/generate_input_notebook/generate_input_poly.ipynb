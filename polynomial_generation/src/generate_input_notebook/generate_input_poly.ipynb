{
 "cells": [
  {
   "cell_type": "code",
   "execution_count": 1,
   "metadata": {
    "collapsed": true
   },
   "outputs": [],
   "source": [
    "import sys\n",
    "import os"
   ]
  },
  {
   "cell_type": "code",
   "execution_count": 2,
   "metadata": {},
   "outputs": [
    {
     "name": "stdout",
     "output_type": "stream",
     "text": [
      "Usage: ./script <input.in>\n",
      "input.in must be in the form of A1B2_A1B2, A1_B2, ...\n",
      "If the molecule has virtual sites, such as lone pairs, use the letter Z\n"
     ]
    }
   ],
   "source": [
    "if len(sys.argv) != 2:\n",
    "    print(\"Usage: ./script <input.in>\")\n",
    "    print(\"input.in must be in the form of A1B2_A1B2, A1_B2, ...\")\n",
    "    print(\"If the molecule has virtual sites, such as lone pairs, use the letter Z\")\n",
    "#    sys.exit()\n",
    "#else:\n",
    "#    name = sys.argv[1]"
   ]
  },
  {
   "cell_type": "code",
   "execution_count": 8,
   "metadata": {
    "collapsed": true
   },
   "outputs": [],
   "source": [
    "# This should be the commandline argument\n",
    "#name = \"A1B2Z2_D1E2.in\"\n",
    "name = \"A1B2_A1B2.in\"\n",
    "molec = os.path.splitext(name)[0]\n",
    "f = open(name, 'w')\n",
    "mon1 = molec.split('_')[0]\n",
    "mon2 = molec.split('_')[1]\n",
    "f.write('add_molecule[\\'' + mon1 + '\\']\\n')\n",
    "f.write('add_molecule[\\'' + mon2 + '\\']\\n')\n",
    "vsites = ['Z','Y','X']"
   ]
  },
  {
   "cell_type": "code",
   "execution_count": 9,
   "metadata": {},
   "outputs": [],
   "source": [
    "types_a = list(mon1)\n",
    "types_b = list(mon2)\n"
   ]
  },
  {
   "cell_type": "code",
   "execution_count": 10,
   "metadata": {},
   "outputs": [],
   "source": [
    "# Generating the non linear parameter list\n",
    "nlparam = []\n",
    "t1 = []\n",
    "# Monomer 1 parameters\n",
    "for i in range(0,len(types_a),2):\n",
    "    for j in range(int(types_a[i+1])):\n",
    "        t1.append(types_a[i])\n",
    "t2 = []\n",
    "# Monomer 2 parameters\n",
    "for i in range(0,len(types_b),2):\n",
    "    for j in range(int(types_b[i+1])):\n",
    "        t2.append(types_b[i])"
   ]
  },
  {
   "cell_type": "code",
   "execution_count": 11,
   "metadata": {},
   "outputs": [],
   "source": [
    "nc = 0\n",
    "set_m1 = []\n",
    "set_m2 = []\n",
    "for i in range(0,len(types_a),2):\n",
    "    n = 1\n",
    "    if (int(types_a[i+1]) == 1):\n",
    "        if not types_a[i] in vsites:\n",
    "            set_m1.append(types_a[i] + '_' +  '_a')\n",
    "    else:\n",
    "        for j in range(int(types_a[i+1])):\n",
    "            if not types_a[i] in vsites:\n",
    "                set_m1.append(types_a[i] + '_' + str(n) + '_a')\n",
    "                n = n + 1\n",
    "                nc = nc + 1\n",
    "\n",
    "for i in range(0,len(types_b),2):\n",
    "    n = 1\n",
    "    if (int(types_b[i+1]) == 1):\n",
    "        if not types_b[i] in vsites:\n",
    "            set_m2.append(types_b[i] + '_' +  '_b')\n",
    "    else:\n",
    "        for j in range(int(types_b[i+1])):\n",
    "            if not types_b[i] in vsites:\n",
    "                set_m2.append(types_b[i] + '_' + str(n) + '_b')\n",
    "                n = n + 1\n",
    "                nc = nc + 1\n",
    "            \n",
    "for i in range(0,len(types_a),2):\n",
    "    n = 1\n",
    "    for j in range(int(types_a[i+1])):\n",
    "        if types_a[i] in vsites:\n",
    "            set_m1.append(types_a[i] + '_' + str(n) + '_a')\n",
    "            n = n + 1\n",
    "\n",
    "for i in range(0,len(types_b),2):\n",
    "    n = 1\n",
    "    for j in range(int(types_b[i+1])):\n",
    "        if types_b[i] in vsites:\n",
    "            set_m2.append(types_b[i] + '_' + str(n) + '_b')\n",
    "            n = n + 1\n"
   ]
  },
  {
   "cell_type": "code",
   "execution_count": 12,
   "metadata": {
    "collapsed": true
   },
   "outputs": [],
   "source": [
    "f.write('\\n')\n",
    "# Intramolecular distances:\n",
    "for i in range(0,len(set_m1) - 1):\n",
    "    for j in range(i + 1,len(set_m1)):\n",
    "        ti = set_m1[i].split('_')\n",
    "        tj = set_m1[j].split('_')\n",
    "        t = ''.join(sorted(ti[0] + tj[0]))\n",
    "        if not ti[0] in vsites and not tj[0] in vsites:\n",
    "            f.write('add_variable[\\'' + ti[0] + ti[1] + '\\', \\'' + ti[2] + '\\', \\'' \\\n",
    "                  + tj[0] + tj[1] + '\\', \\'' + tj[2] + '\\', \\'x-intra-' + t + '\\']\\n')\n",
    "            \n",
    "for i in range(0,len(set_m2) - 1):\n",
    "    for j in range(i + 1,len(set_m2)):\n",
    "        ti = set_m2[i].split('_')\n",
    "        tj = set_m2[j].split('_')\n",
    "        t = ''.join(sorted(ti[0] + tj[0]))\n",
    "        if not ti[0] in vsites and not tj[0] in vsites:\n",
    "            f.write('add_variable[\\'' + ti[0] + ti[1] + '\\', \\'' + ti[2] + '\\', \\'' \\\n",
    "                  + tj[0] + tj[1] + '\\', \\'' + tj[2] + '\\', \\'x-intra-' + t + '\\']\\n')\n",
    "# Intermolecular distances\n",
    "for i in range(0,len(set_m1)):\n",
    "    for j in range(0,len(set_m2)):\n",
    "        ti = set_m1[i].split('_')\n",
    "        tj = set_m2[j].split('_')\n",
    "        t = ''.join(sorted(ti[0] + tj[0]))\n",
    "        f.write('add_variable[\\'' + ti[0] + ti[1] + '\\', \\'' + ti[2] + '\\', \\'' \\\n",
    "                  + tj[0] + tj[1] + '\\', \\'' + tj[2] + '\\', \\'x-' + t + '\\']\\n')\n",
    "f.close()"
   ]
  },
  {
   "cell_type": "code",
   "execution_count": null,
   "metadata": {
    "collapsed": true
   },
   "outputs": [],
   "source": []
  }
 ],
 "metadata": {
  "kernelspec": {
   "display_name": "Python 3",
   "language": "python",
   "name": "python3"
  },
  "language_info": {
   "codemirror_mode": {
    "name": "ipython",
    "version": 3
   },
   "file_extension": ".py",
   "mimetype": "text/x-python",
   "name": "python",
   "nbconvert_exporter": "python",
   "pygments_lexer": "ipython3",
   "version": "3.6.1"
  }
 },
 "nbformat": 4,
 "nbformat_minor": 2
}
